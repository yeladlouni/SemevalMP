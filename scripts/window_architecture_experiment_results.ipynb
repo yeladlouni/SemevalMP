{
 "cells": [
  {
   "cell_type": "markdown",
   "metadata": {},
   "source": [
    "# Window Architecture Experiment Results"
   ]
  },
  {
   "cell_type": "code",
   "execution_count": 2,
   "metadata": {},
   "outputs": [],
   "source": [
    "import json\n",
    "\n",
    "import numpy as np\n",
    "import pandas as pd\n",
    "import matplotlib.pyplot as plt\n",
    "import seaborn as sns\n",
    "import scipy.stats as st\n",
    "import statsmodels.stats.api as sms\n",
    "\n",
    "from db import conn"
   ]
  },
  {
   "cell_type": "code",
   "execution_count": 3,
   "metadata": {},
   "outputs": [],
   "source": [
    "%matplotlib inline"
   ]
  },
  {
   "cell_type": "code",
   "execution_count": 4,
   "metadata": {},
   "outputs": [],
   "source": [
    "sns.set_style(\"whitegrid\")"
   ]
  },
  {
   "cell_type": "code",
   "execution_count": 5,
   "metadata": {},
   "outputs": [],
   "source": [
    "cursor = conn.cursor()\n",
    "experiment_rows = [r for r in cursor.execute(\"\"\"\n",
    "    select g.name, args, dev_metric, test_metric from experiments e\n",
    "    join experiment_groups g on e.group_id=g.gid\n",
    "    where g.name=?\"\"\", ('mpcnn-v2-window-fix-params-and-seed',))]"
   ]
  },
  {
   "cell_type": "code",
   "execution_count": 6,
   "metadata": {},
   "outputs": [
    {
     "data": {
      "text/plain": [
       "120"
      ]
     },
     "execution_count": 6,
     "metadata": {},
     "output_type": "execute_result"
    }
   ],
   "source": [
    "len(experiment_rows)"
   ]
  },
  {
   "cell_type": "code",
   "execution_count": 7,
   "metadata": {},
   "outputs": [],
   "source": [
    "experiment_results = {\n",
    "    'trecqa': [],\n",
    "    'wikiqa': [],\n",
    "    'sick': []\n",
    "}\n",
    "\n",
    "for row in experiment_rows:\n",
    "    args = json.loads(row[1])\n",
    "    dev_metrics = json.loads(row[2])\n",
    "    test_metrics = json.loads(row[3])\n",
    "    dataset = args['dataset']\n",
    "    \n",
    "    if args['arch'] == 'mpcnn_single_window':\n",
    "        arch = 'Single'\n",
    "    elif args['arch'] == 'mpcnn_single_window_with_inf':\n",
    "        arch = 'Single/Inf'\n",
    "    elif args['arch'] == 'mpcnn_no_inf':\n",
    "        arch = 'Multi'\n",
    "    else:\n",
    "        arch = 'MP-CNN'\n",
    "    \n",
    "    res_base = {\n",
    "        'arch': arch,\n",
    "        'dataset': dataset,\n",
    "        'seed': args['seed']\n",
    "    }\n",
    "    \n",
    "    results = []\n",
    "    \n",
    "    if dataset in ('trecqa', 'wikiqa'):\n",
    "        results.append({**res_base, **{'split': 'dev', 'metric_name': 'MAP', 'metric_val': dev_metrics['map']}})\n",
    "        results.append({**res_base, **{'split': 'dev', 'metric_name': 'MRR', 'metric_val': dev_metrics['mrr']}})\n",
    "        results.append({**res_base, **{'split': 'test', 'metric_name': 'MAP', 'metric_val': test_metrics['map']}})\n",
    "        results.append({**res_base, **{'split': 'test', 'metric_name': 'MRR', 'metric_val': test_metrics['mrr']}})\n",
    "    elif dataset == 'sick':\n",
    "        results.append({**res_base, **{'split': 'dev', 'metric_name': 'pearson', 'metric_val': dev_metrics['pearson']}})\n",
    "        results.append({**res_base, **{'split': 'dev', 'metric_name': 'spearman', 'metric_val': dev_metrics['spearman']}})\n",
    "        results.append({**res_base, **{'split': 'test', 'metric_name': 'pearson', 'metric_val': test_metrics['pearson']}})\n",
    "        results.append({**res_base, **{'split': 'test', 'metric_name': 'spearman', 'metric_val': test_metrics['spearman']}})\n",
    "    \n",
    "    experiment_results[dataset].extend(results)"
   ]
  },
  {
   "cell_type": "code",
   "execution_count": 8,
   "metadata": {},
   "outputs": [],
   "source": [
    "trecqa = pd.DataFrame(experiment_results['trecqa'])\n",
    "wikiqa = pd.DataFrame(experiment_results['wikiqa'])\n",
    "sick = pd.DataFrame(experiment_results['sick'])"
   ]
  },
  {
   "cell_type": "code",
   "execution_count": 9,
   "metadata": {},
   "outputs": [
    {
     "data": {
      "text/plain": [
       "array(['Single', 'MP-CNN', 'Single/Inf', 'Multi'], dtype=object)"
      ]
     },
     "execution_count": 9,
     "metadata": {},
     "output_type": "execute_result"
    }
   ],
   "source": [
    "trecqa['arch'].unique()"
   ]
  },
  {
   "cell_type": "code",
   "execution_count": 10,
   "metadata": {},
   "outputs": [],
   "source": [
    "archs = ['MP-CNN', 'Multi', 'Single', 'Single/Inf']\n",
    "def compare_change_to_baseline(df, metric):\n",
    "    changes = {'MP-CNN': 'baseline'}\n",
    "    config_ids = df['seed'].unique()\n",
    "    for arch in archs:\n",
    "        if arch == 'MP-CNN':\n",
    "            continue\n",
    "        diffs = []\n",
    "        for config_id in config_ids:\n",
    "            baseline = df[(df['seed'] == config_id) & (df['arch'] == 'MP-CNN')].iloc[0]['metric_val']\n",
    "            conf_perf = df[(df['seed'] == config_id) & (df['arch'] == arch)].iloc[0]['metric_val']\n",
    "            diffs.append(conf_perf - baseline)\n",
    "\n",
    "        print(f'Architecture: {arch}')\n",
    "        print(f'Median of {metric} change compared with single baseline: {np.median(diffs):.4f}')\n",
    "        print(f'Mean of {metric} change compared with single baseline: {np.mean(diffs):.4f}')\n",
    "        diff = np.median(diffs)\n",
    "        changes[arch] = f'+{diff:.4f}' if diff > 0 else f'{diff:.4f}'\n",
    "    \n",
    "    return changes"
   ]
  },
  {
   "cell_type": "markdown",
   "metadata": {},
   "source": [
    "## TrecQA"
   ]
  },
  {
   "cell_type": "code",
   "execution_count": 11,
   "metadata": {},
   "outputs": [],
   "source": [
    "trec_map_vs_archs_test = trecqa[(trecqa['metric_name'] == 'MAP') & (trecqa['split'] == 'test')]\n",
    "trec_mrr_vs_archs_test = trecqa[(trecqa['metric_name'] == 'MRR') & (trecqa['split'] == 'test')]\n",
    "trec_map_vs_archs_dev = trecqa[(trecqa['metric_name'] == 'MAP') & (trecqa['split'] == 'dev')]\n",
    "trec_mrr_vs_archs_dev = trecqa[(trecqa['metric_name'] == 'MRR') & (trecqa['split'] == 'dev')]"
   ]
  },
  {
   "cell_type": "code",
   "execution_count": 12,
   "metadata": {},
   "outputs": [
    {
     "name": "stdout",
     "output_type": "stream",
     "text": [
      "Single: (0.7212, 0.7492)\n",
      "MP-CNN: (0.6956, 0.8115)\n",
      "Single/Inf: (0.6878, 0.7254)\n",
      "Multi: (0.7643, 0.7898)\n"
     ]
    }
   ],
   "source": [
    "trec_map_intervals = {}\n",
    "for arch in trec_map_vs_archs_test['arch'].unique():\n",
    "    arr = trec_map_vs_archs_test[trec_map_vs_archs_test['arch'] == arch]['metric_val']\n",
    "    ci = sms.DescrStatsW(arr).tconfint_mean()\n",
    "    print(f'{arch}: ({ci[0]:.4f}, {ci[1]:.4f})')\n",
    "    trec_map_intervals[arch] = (f'{ci[0]:.4f}', f'{ci[1]:.4f}')"
   ]
  },
  {
   "cell_type": "code",
   "execution_count": 13,
   "metadata": {},
   "outputs": [
    {
     "name": "stdout",
     "output_type": "stream",
     "text": [
      "Single: (0.7596, 0.8199)\n",
      "MP-CNN: (0.6860, 0.8473)\n",
      "Single/Inf: (0.6824, 0.8270)\n",
      "Multi: (0.8144, 0.8406)\n"
     ]
    }
   ],
   "source": [
    "trec_mrr_intervals = {}\n",
    "for arch in trec_mrr_vs_archs_test['arch'].unique():\n",
    "    arr = trec_mrr_vs_archs_test[trec_mrr_vs_archs_test['arch'] == arch]['metric_val']\n",
    "    ci = sms.DescrStatsW(arr).tconfint_mean()\n",
    "    print(f'{arch}: ({ci[0]:.4f}, {ci[1]:.4f})')\n",
    "    trec_mrr_intervals[arch] = (f'{ci[0]:.4f}', f'{ci[1]:.4f}')"
   ]
  },
  {
   "cell_type": "code",
   "execution_count": 14,
   "metadata": {},
   "outputs": [
    {
     "name": "stdout",
     "output_type": "stream",
     "text": [
      "Architecture: Multi\n",
      "Median of MAP change compared with single baseline: 0.0085\n",
      "Mean of MAP change compared with single baseline: 0.0235\n",
      "Architecture: Single\n",
      "Median of MAP change compared with single baseline: -0.0383\n",
      "Mean of MAP change compared with single baseline: -0.0184\n",
      "Architecture: Single/Inf\n",
      "Median of MAP change compared with single baseline: -0.0605\n",
      "Mean of MAP change compared with single baseline: -0.0470\n"
     ]
    }
   ],
   "source": [
    "trec_map_delta = compare_change_to_baseline(trec_map_vs_archs_test, 'MAP')"
   ]
  },
  {
   "cell_type": "code",
   "execution_count": 15,
   "metadata": {},
   "outputs": [
    {
     "name": "stdout",
     "output_type": "stream",
     "text": [
      "Architecture: Multi\n",
      "Median of MRR change compared with single baseline: 0.0145\n",
      "Mean of MRR change compared with single baseline: 0.0608\n",
      "Architecture: Single\n",
      "Median of MRR change compared with single baseline: -0.0012\n",
      "Mean of MRR change compared with single baseline: 0.0230\n",
      "Architecture: Single/Inf\n",
      "Median of MRR change compared with single baseline: -0.0306\n",
      "Mean of MRR change compared with single baseline: -0.0120\n"
     ]
    }
   ],
   "source": [
    "trec_mrr_delta = compare_change_to_baseline(trec_mrr_vs_archs_test, 'MRR')"
   ]
  },
  {
   "cell_type": "markdown",
   "metadata": {},
   "source": [
    "## WikiQA"
   ]
  },
  {
   "cell_type": "code",
   "execution_count": 16,
   "metadata": {},
   "outputs": [],
   "source": [
    "wikiqa_map_vs_archs_test = wikiqa[(wikiqa['metric_name'] == 'MAP') & (wikiqa['split'] == 'test')]\n",
    "wikiqa_mrr_vs_archs_test = wikiqa[(wikiqa['metric_name'] == 'MRR') & (wikiqa['split'] == 'test')]\n",
    "wikiqa_map_vs_archs_dev = wikiqa[(wikiqa['metric_name'] == 'MAP') & (wikiqa['split'] == 'dev')]\n",
    "wikiqa_mrr_vs_archs_dev = wikiqa[(wikiqa['metric_name'] == 'MRR') & (wikiqa['split'] == 'dev')]"
   ]
  },
  {
   "cell_type": "code",
   "execution_count": 17,
   "metadata": {},
   "outputs": [
    {
     "name": "stdout",
     "output_type": "stream",
     "text": [
      "MP-CNN: (0.5355, 0.7264)\n",
      "Single: (0.6646, 0.6787)\n",
      "Single/Inf: (0.6640, 0.6730)\n",
      "Multi: (0.5470, 0.7357)\n"
     ]
    }
   ],
   "source": [
    "wikiqa_map_intervals = {}\n",
    "for arch in wikiqa_map_vs_archs_test['arch'].unique():\n",
    "    arr = wikiqa_map_vs_archs_test[wikiqa_map_vs_archs_test['arch'] == arch]['metric_val']\n",
    "    ci = sms.DescrStatsW(arr).tconfint_mean()\n",
    "    print(f'{arch}: ({ci[0]:.4f}, {ci[1]:.4f})')\n",
    "    wikiqa_map_intervals[arch] = (f'{ci[0]:.4f}', f'{ci[1]:.4f}')"
   ]
  },
  {
   "cell_type": "code",
   "execution_count": 18,
   "metadata": {},
   "outputs": [
    {
     "name": "stdout",
     "output_type": "stream",
     "text": [
      "MP-CNN: (0.5410, 0.7387)\n",
      "Single: (0.5770, 0.7315)\n",
      "Single/Inf: (0.6797, 0.6900)\n",
      "Multi: (0.5521, 0.7483)\n"
     ]
    }
   ],
   "source": [
    "wikiqa_mrr_intervals = {}\n",
    "for arch in wikiqa_mrr_vs_archs_test['arch'].unique():\n",
    "    arr = wikiqa_mrr_vs_archs_test[wikiqa_mrr_vs_archs_test['arch'] == arch]['metric_val']\n",
    "    ci = sms.DescrStatsW(arr).tconfint_mean()\n",
    "    print(f'{arch}: ({ci[0]:.4f}, {ci[1]:.4f})')\n",
    "    wikiqa_mrr_intervals[arch] = (f'{ci[0]:.4f}', f'{ci[1]:.4f}')"
   ]
  },
  {
   "cell_type": "code",
   "execution_count": 19,
   "metadata": {},
   "outputs": [
    {
     "name": "stdout",
     "output_type": "stream",
     "text": [
      "Architecture: Multi\n",
      "Median of MAP change compared with single baseline: 0.0029\n",
      "Mean of MAP change compared with single baseline: 0.0104\n",
      "Architecture: Single\n",
      "Median of MAP change compared with single baseline: -0.0272\n",
      "Mean of MAP change compared with single baseline: 0.0407\n",
      "Architecture: Single/Inf\n",
      "Median of MAP change compared with single baseline: -0.0345\n",
      "Mean of MAP change compared with single baseline: 0.0376\n"
     ]
    }
   ],
   "source": [
    "wikiqa_map_delta = compare_change_to_baseline(wikiqa_map_vs_archs_test, 'MAP')"
   ]
  },
  {
   "cell_type": "code",
   "execution_count": 20,
   "metadata": {},
   "outputs": [
    {
     "name": "stdout",
     "output_type": "stream",
     "text": [
      "Architecture: Multi\n",
      "Median of MRR change compared with single baseline: 0.0038\n",
      "Mean of MRR change compared with single baseline: 0.0103\n",
      "Architecture: Single\n",
      "Median of MRR change compared with single baseline: -0.0215\n",
      "Mean of MRR change compared with single baseline: 0.0144\n",
      "Architecture: Single/Inf\n",
      "Median of MRR change compared with single baseline: -0.0283\n",
      "Mean of MRR change compared with single baseline: 0.0449\n"
     ]
    }
   ],
   "source": [
    "wikiqa_mrr_delta = compare_change_to_baseline(wikiqa_mrr_vs_archs_test, 'MRR')"
   ]
  },
  {
   "cell_type": "markdown",
   "metadata": {},
   "source": [
    "## SICK"
   ]
  },
  {
   "cell_type": "code",
   "execution_count": 21,
   "metadata": {},
   "outputs": [],
   "source": [
    "sick_pearson_vs_archs_test = sick[(sick['metric_name'] == 'pearson') & (sick['split'] == 'test')]\n",
    "sick_spearman_vs_archs_test = sick[(sick['metric_name'] == 'spearman') & (sick['split'] == 'test')]\n",
    "sick_pearson_vs_archs_dev = sick[(sick['metric_name'] == 'pearson') & (sick['split'] == 'dev')]\n",
    "sick_spearman_vs_archs_dev = sick[(sick['metric_name'] == 'spearman') & (sick['split'] == 'dev')]"
   ]
  },
  {
   "cell_type": "code",
   "execution_count": 22,
   "metadata": {},
   "outputs": [
    {
     "name": "stdout",
     "output_type": "stream",
     "text": [
      "Single: (0.8358, 0.8419)\n",
      "Single/Inf: (0.8366, 0.8413)\n",
      "MP-CNN: (0.7843, 0.9005)\n",
      "Multi: (0.7840, 0.9040)\n"
     ]
    }
   ],
   "source": [
    "sick_pearson_intervals = {}\n",
    "for arch in sick_pearson_vs_archs_test['arch'].unique():\n",
    "    arr = sick_pearson_vs_archs_test[sick_pearson_vs_archs_test['arch'] == arch]['metric_val']\n",
    "    ci = sms.DescrStatsW(arr).tconfint_mean()\n",
    "    print(f'{arch}: ({ci[0]:.4f}, {ci[1]:.4f})')\n",
    "    sick_pearson_intervals[arch] = (f'{ci[0]:.4f}', f'{ci[1]:.4f}')"
   ]
  },
  {
   "cell_type": "code",
   "execution_count": 23,
   "metadata": {},
   "outputs": [
    {
     "name": "stdout",
     "output_type": "stream",
     "text": [
      "Single: (0.7740, 0.7788)\n",
      "Single/Inf: (0.7766, 0.7820)\n",
      "MP-CNN: (0.7653, 0.8230)\n",
      "Multi: (0.7796, 0.8216)\n"
     ]
    }
   ],
   "source": [
    "sick_spearman_intervals = {}\n",
    "for arch in sick_spearman_vs_archs_test['arch'].unique():\n",
    "    arr = sick_spearman_vs_archs_test[sick_spearman_vs_archs_test['arch'] == arch]['metric_val']\n",
    "    ci = sms.DescrStatsW(arr).tconfint_mean()\n",
    "    print(f'{arch}: ({ci[0]:.4f}, {ci[1]:.4f})')\n",
    "    sick_spearman_intervals[arch] = (f'{ci[0]:.4f}', f'{ci[1]:.4f}')"
   ]
  },
  {
   "cell_type": "code",
   "execution_count": 24,
   "metadata": {},
   "outputs": [
    {
     "name": "stdout",
     "output_type": "stream",
     "text": [
      "Architecture: Multi\n",
      "Median of pearson change compared with single baseline: 0.0009\n",
      "Mean of pearson change compared with single baseline: 0.0016\n",
      "Architecture: Single\n",
      "Median of pearson change compared with single baseline: -0.0281\n",
      "Mean of pearson change compared with single baseline: -0.0036\n",
      "Architecture: Single/Inf\n",
      "Median of pearson change compared with single baseline: -0.0284\n",
      "Mean of pearson change compared with single baseline: -0.0035\n"
     ]
    }
   ],
   "source": [
    "sick_pearson_delta = compare_change_to_baseline(sick_pearson_vs_archs_test, 'pearson')"
   ]
  },
  {
   "cell_type": "code",
   "execution_count": 25,
   "metadata": {},
   "outputs": [
    {
     "name": "stdout",
     "output_type": "stream",
     "text": [
      "Architecture: Multi\n",
      "Median of spearman change compared with single baseline: 0.0033\n",
      "Mean of spearman change compared with single baseline: 0.0064\n",
      "Architecture: Single\n",
      "Median of spearman change compared with single baseline: -0.0312\n",
      "Mean of spearman change compared with single baseline: -0.0178\n",
      "Architecture: Single/Inf\n",
      "Median of spearman change compared with single baseline: -0.0241\n",
      "Mean of spearman change compared with single baseline: -0.0149\n"
     ]
    }
   ],
   "source": [
    "sick_spearman_delta = compare_change_to_baseline(sick_spearman_vs_archs_test, 'spearman')"
   ]
  },
  {
   "cell_type": "code",
   "execution_count": 26,
   "metadata": {},
   "outputs": [
    {
     "data": {
      "image/png": "[encoded data removed]",
      "text/plain": [
       "<matplotlib.figure.Figure at 0x7fe5018b0940>"
      ]
     },
     "metadata": {},
     "output_type": "display_data"
    }
   ],
   "source": [
    "fig, ax = plt.subplots()\n",
    "fig.set_size_inches(11.7, 6)\n",
    "title_size = 18\n",
    "axis_size = 16\n",
    "tick_size = 14\n",
    "\n",
    "ax = plt.subplot(321)\n",
    "sns.boxplot(x='arch', y='metric_val', data=trec_map_vs_archs_test, order=archs, ax=ax)\n",
    "plt.ylabel('TrecQA\\nMAP', fontsize=axis_size)\n",
    "plt.yticks(fontsize=tick_size)\n",
    "plt.ylim((0.65, 0.82))\n",
    "plt.xlabel('', fontsize=axis_size)\n",
    "plt.xticks(fontsize=tick_size)\n",
    "ax.xaxis.set_ticklabels([trec_map_delta[a] for a in archs])\n",
    "ylim = ax.get_ylim()\n",
    "for i, a in enumerate(archs):\n",
    "    ax.text(0.2+i*1, ylim[0] + 0.1*(ylim[1] - ylim[0]), trec_map_intervals[a][0])\n",
    "    ax.text(0.2+i*1, ylim[0] + 0.9*(ylim[1] - ylim[0]), trec_map_intervals[a][1])\n",
    "\n",
    "ax = plt.subplot(322)\n",
    "sns.boxplot(x='arch', y='metric_val', data=trec_mrr_vs_archs_test, order=archs, ax=ax)\n",
    "plt.ylabel('MRR', fontsize=axis_size)\n",
    "plt.xlabel('', fontsize=axis_size)\n",
    "plt.xticks(fontsize=tick_size)\n",
    "plt.yticks(fontsize=tick_size)\n",
    "plt.ylim((0.73, 0.87))\n",
    "ax.xaxis.set_ticklabels([trec_mrr_delta[a] for a in archs])\n",
    "ylim = ax.get_ylim()\n",
    "for i, a in enumerate(archs):\n",
    "    ax.text(0.2+i*1, ylim[0] + 0.1*(ylim[1] - ylim[0]), trec_mrr_intervals[a][0])\n",
    "    ax.text(0.2+i*1, ylim[0] + 0.9*(ylim[1] - ylim[0]), trec_mrr_intervals[a][1])\n",
    "\n",
    "ax = plt.subplot(323)\n",
    "sns.boxplot(x='arch', y='metric_val', data=wikiqa_map_vs_archs_test, order=archs, ax=ax)\n",
    "plt.ylabel('WikiQA\\nMAP', fontsize=axis_size)\n",
    "plt.yticks(fontsize=tick_size)\n",
    "plt.ylim((0.58, 0.75))\n",
    "plt.xlabel('', fontsize=axis_size)\n",
    "plt.xticks(fontsize=tick_size)\n",
    "ax.xaxis.set_ticklabels([wikiqa_map_delta[a] for a in archs])\n",
    "ylim = ax.get_ylim()\n",
    "for i, a in enumerate(archs):\n",
    "    ax.text(0.2+i*1, ylim[0] + 0.1*(ylim[1] - ylim[0]), wikiqa_map_intervals[a][0])\n",
    "    ax.text(0.2+i*1, ylim[0] + 0.9*(ylim[1] - ylim[0]), wikiqa_map_intervals[a][1])\n",
    "\n",
    "ax = plt.subplot(324)\n",
    "sns.boxplot(x='arch', y='metric_val', data=wikiqa_mrr_vs_archs_test, order=archs, ax=ax)\n",
    "plt.ylabel('MRR', fontsize=axis_size)\n",
    "plt.yticks(fontsize=tick_size)\n",
    "plt.ylim((0.58, 0.75))\n",
    "plt.xlabel('', fontsize=axis_size)\n",
    "plt.xticks(fontsize=tick_size)\n",
    "ax.xaxis.set_ticklabels([wikiqa_mrr_delta[a] for a in archs])\n",
    "ylim = ax.get_ylim()\n",
    "for i, a in enumerate(archs):\n",
    "    ax.text(0.2+i*1, ylim[0] + 0.1*(ylim[1] - ylim[0]), wikiqa_mrr_intervals[a][0])\n",
    "    ax.text(0.2+i*1, ylim[0] + 0.9*(ylim[1] - ylim[0]), wikiqa_mrr_intervals[a][1])\n",
    "\n",
    "ax = plt.subplot(325)\n",
    "sns.boxplot(x='arch', y='metric_val', data=sick_pearson_vs_archs_test, order=archs, ax=ax)\n",
    "plt.ylabel(\"SICK\\nPearson's r\", fontsize=axis_size)\n",
    "plt.xlabel('Architecture', fontsize=axis_size)\n",
    "plt.xticks(fontsize=tick_size)\n",
    "plt.yticks(fontsize=tick_size)\n",
    "plt.ylim((0.82, 0.89))\n",
    "ax.xaxis.set_ticklabels([sick_pearson_delta[a] + '\\n' + a for a in archs])\n",
    "ylim = ax.get_ylim()\n",
    "for i, a in enumerate(archs):\n",
    "    ax.text(0.2+i*1, ylim[0] + 0.1*(ylim[1] - ylim[0]), sick_pearson_intervals[a][0])\n",
    "    ax.text(0.2+i*1, ylim[0] + 0.9*(ylim[1] - ylim[0]), sick_pearson_intervals[a][1])\n",
    "\n",
    "ax = plt.subplot(326)\n",
    "sns.boxplot(x='arch', y='metric_val', data=sick_spearman_vs_archs_test, order=archs, ax=ax)\n",
    "plt.ylabel(\"Spearman's p\", fontsize=axis_size)\n",
    "plt.xlabel('Architecture', fontsize=axis_size)\n",
    "plt.xticks(fontsize=tick_size)\n",
    "plt.yticks(fontsize=tick_size)\n",
    "plt.ylim((0.76, 0.83))\n",
    "ax.xaxis.set_ticklabels([sick_spearman_delta[a] + '\\n' + a for a in archs])\n",
    "ylim = ax.get_ylim()\n",
    "for i, a in enumerate(archs):\n",
    "    ax.text(0.2+i*1, ylim[0] + 0.1*(ylim[1] - ylim[0]), sick_spearman_intervals[a][0])\n",
    "    ax.text(0.2+i*1, ylim[0] + 0.9*(ylim[1] - ylim[0]), sick_spearman_intervals[a][1])\n",
    "plt.tight_layout()\n",
    "# plt.subplots_adjust(top=0.8, hspace=0.2)\n",
    "plt.savefig('window_arch_violin.pdf')"
   ]
  },
  {
   "cell_type": "code",
   "execution_count": null,
   "metadata": {},
   "outputs": [],
   "source": []
  },
  {
   "cell_type": "code",
   "execution_count": null,
   "metadata": {},
   "outputs": [],
   "source": []
  }
 ],
 "metadata": {
  "kernelspec": {
   "display_name": "Python 3",
   "language": "python",
   "name": "python3"
  },
  "language_info": {
   "codemirror_mode": {
    "name": "ipython",
    "version": 3
   },
   "file_extension": ".py",
   "mimetype": "text/x-python",
   "name": "python",
   "nbconvert_exporter": "python",
   "pygments_lexer": "ipython3",
   "version": "3.6.4"
  }
 },
 "nbformat": 4,
 "nbformat_minor": 2
}
