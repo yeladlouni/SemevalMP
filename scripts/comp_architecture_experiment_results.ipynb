{
 "cells": [
  {
   "cell_type": "markdown",
   "metadata": {},
   "source": [
    "# Comp Architecture Experiment Results"
   ]
  },
  {
   "cell_type": "code",
   "execution_count": 1,
   "metadata": {},
   "outputs": [],
   "source": [
    "import json\n",
    "\n",
    "import numpy as np\n",
    "import pandas as pd\n",
    "import matplotlib.pyplot as plt\n",
    "import seaborn as sns\n",
    "import scipy.stats as st\n",
    "import statsmodels.stats.api as sms\n",
    "\n",
    "from db import conn"
   ]
  },
  {
   "cell_type": "code",
   "execution_count": 2,
   "metadata": {},
   "outputs": [],
   "source": [
    "%matplotlib inline"
   ]
  },
  {
   "cell_type": "code",
   "execution_count": 3,
   "metadata": {},
   "outputs": [],
   "source": [
    "sns.set_style(\"whitegrid\")"
   ]
  },
  {
   "cell_type": "code",
   "execution_count": 4,
   "metadata": {},
   "outputs": [],
   "source": [
    "cursor = conn.cursor()\n",
    "experiment_rows = [r for r in cursor.execute(\"\"\"\n",
    "    select g.name, args, dev_metric, test_metric from experiments e\n",
    "    join experiment_groups g on e.group_id=g.gid\n",
    "    where g.name=?\"\"\", ('mpcnn-v2-comp-fix-params-and-seed',))]"
   ]
  },
  {
   "cell_type": "code",
   "execution_count": 5,
   "metadata": {},
   "outputs": [
    {
     "data": {
      "text/plain": [
       "120"
      ]
     },
     "execution_count": 5,
     "metadata": {},
     "output_type": "execute_result"
    }
   ],
   "source": [
    "len(experiment_rows)"
   ]
  },
  {
   "cell_type": "code",
   "execution_count": 6,
   "metadata": {},
   "outputs": [],
   "source": [
    "experiment_results = {\n",
    "    'trecqa': [],\n",
    "    'wikiqa': [],\n",
    "    'sick': []\n",
    "}\n",
    "\n",
    "for row in experiment_rows:\n",
    "    args = json.loads(row[1])\n",
    "    dev_metrics = json.loads(row[2])\n",
    "    test_metrics = json.loads(row[3])\n",
    "    dataset = args['dataset']\n",
    "    \n",
    "    if args['arch'] == 'mpcnn_comp_unit1_only':\n",
    "        arch = 'U1'\n",
    "    elif args['arch'] == 'mpcnn_comp_unit2_only':\n",
    "        arch = 'U2'\n",
    "    elif args['arch'] == 'mpcnn_comp_horiz_only':\n",
    "        arch = 'Horiz'\n",
    "    elif args['arch'] == 'mpcnn_comp_vert_only':\n",
    "        arch = 'Vert'\n",
    "    elif args['arch'] == 'mpcnn_comp_vert_holistic_only':\n",
    "        arch = 'Vert. Holistic'\n",
    "    elif args['arch'] == 'mpcnn_comp_cosine':\n",
    "        arch = 'Cosine'\n",
    "    elif args['arch'] == 'mpcnn_comp_euclidean':\n",
    "        arch = 'Euclidean'\n",
    "    elif args['arch'] == 'mpcnn_comp_abs_diff':\n",
    "        arch = 'AbsDiff'\n",
    "    else:\n",
    "        arch = 'MP-CNN'\n",
    "    \n",
    "    res_base = {\n",
    "        'arch': arch,\n",
    "        'dataset': dataset,\n",
    "        'seed': args['seed']\n",
    "    }\n",
    "    \n",
    "    results = []\n",
    "    \n",
    "    if dataset in ('trecqa', 'wikiqa'):\n",
    "        results.append({**res_base, **{'split': 'dev', 'metric_name': 'MAP', 'metric_val': dev_metrics['map']}})\n",
    "        results.append({**res_base, **{'split': 'dev', 'metric_name': 'MRR', 'metric_val': dev_metrics['mrr']}})\n",
    "        results.append({**res_base, **{'split': 'test', 'metric_name': 'MAP', 'metric_val': test_metrics['map']}})\n",
    "        results.append({**res_base, **{'split': 'test', 'metric_name': 'MRR', 'metric_val': test_metrics['mrr']}})\n",
    "    elif dataset == 'sick':\n",
    "        results.append({**res_base, **{'split': 'dev', 'metric_name': 'pearson', 'metric_val': dev_metrics['pearson']}})\n",
    "        results.append({**res_base, **{'split': 'dev', 'metric_name': 'spearman', 'metric_val': dev_metrics['spearman']}})\n",
    "        results.append({**res_base, **{'split': 'test', 'metric_name': 'pearson', 'metric_val': test_metrics['pearson']}})\n",
    "        results.append({**res_base, **{'split': 'test', 'metric_name': 'spearman', 'metric_val': test_metrics['spearman']}})\n",
    "    \n",
    "    experiment_results[dataset].extend(results)"
   ]
  },
  {
   "cell_type": "code",
   "execution_count": 7,
   "metadata": {},
   "outputs": [],
   "source": [
    "trecqa = pd.DataFrame(experiment_results['trecqa'])\n",
    "wikiqa = pd.DataFrame(experiment_results['wikiqa'])\n",
    "sick = pd.DataFrame(experiment_results['sick'])"
   ]
  },
  {
   "cell_type": "code",
   "execution_count": 8,
   "metadata": {},
   "outputs": [
    {
     "data": {
      "text/html": [
       "<div>\n",
       "<table border=\"1\" class=\"dataframe\">\n",
       "  <thead>\n",
       "    <tr style=\"text-align: right;\">\n",
       "      <th></th>\n",
       "      <th>arch</th>\n",
       "      <th>dataset</th>\n",
       "      <th>metric_name</th>\n",
       "      <th>metric_val</th>\n",
       "      <th>seed</th>\n",
       "      <th>split</th>\n",
       "    </tr>\n",
       "  </thead>\n",
       "  <tbody>\n",
       "    <tr>\n",
       "      <th>0</th>\n",
       "      <td>Horiz</td>\n",
       "      <td>trecqa</td>\n",
       "      <td>MAP</td>\n",
       "      <td>0.7884</td>\n",
       "      <td>208271</td>\n",
       "      <td>dev</td>\n",
       "    </tr>\n",
       "    <tr>\n",
       "      <th>1</th>\n",
       "      <td>Horiz</td>\n",
       "      <td>trecqa</td>\n",
       "      <td>MRR</td>\n",
       "      <td>0.8633</td>\n",
       "      <td>208271</td>\n",
       "      <td>dev</td>\n",
       "    </tr>\n",
       "    <tr>\n",
       "      <th>2</th>\n",
       "      <td>Horiz</td>\n",
       "      <td>trecqa</td>\n",
       "      <td>MAP</td>\n",
       "      <td>0.7613</td>\n",
       "      <td>208271</td>\n",
       "      <td>test</td>\n",
       "    </tr>\n",
       "    <tr>\n",
       "      <th>3</th>\n",
       "      <td>Horiz</td>\n",
       "      <td>trecqa</td>\n",
       "      <td>MRR</td>\n",
       "      <td>0.8226</td>\n",
       "      <td>208271</td>\n",
       "      <td>test</td>\n",
       "    </tr>\n",
       "    <tr>\n",
       "      <th>4</th>\n",
       "      <td>MP-CNN</td>\n",
       "      <td>trecqa</td>\n",
       "      <td>MAP</td>\n",
       "      <td>0.8232</td>\n",
       "      <td>208271</td>\n",
       "      <td>dev</td>\n",
       "    </tr>\n",
       "    <tr>\n",
       "      <th>5</th>\n",
       "      <td>MP-CNN</td>\n",
       "      <td>trecqa</td>\n",
       "      <td>MRR</td>\n",
       "      <td>0.9090</td>\n",
       "      <td>208271</td>\n",
       "      <td>dev</td>\n",
       "    </tr>\n",
       "    <tr>\n",
       "      <th>6</th>\n",
       "      <td>MP-CNN</td>\n",
       "      <td>trecqa</td>\n",
       "      <td>MAP</td>\n",
       "      <td>0.7686</td>\n",
       "      <td>208271</td>\n",
       "      <td>test</td>\n",
       "    </tr>\n",
       "    <tr>\n",
       "      <th>7</th>\n",
       "      <td>MP-CNN</td>\n",
       "      <td>trecqa</td>\n",
       "      <td>MRR</td>\n",
       "      <td>0.8305</td>\n",
       "      <td>208271</td>\n",
       "      <td>test</td>\n",
       "    </tr>\n",
       "  </tbody>\n",
       "</table>\n",
       "</div>"
      ],
      "text/plain": [
       "     arch dataset metric_name  metric_val    seed split\n",
       "0   Horiz  trecqa         MAP      0.7884  208271   dev\n",
       "1   Horiz  trecqa         MRR      0.8633  208271   dev\n",
       "2   Horiz  trecqa         MAP      0.7613  208271  test\n",
       "3   Horiz  trecqa         MRR      0.8226  208271  test\n",
       "4  MP-CNN  trecqa         MAP      0.8232  208271   dev\n",
       "5  MP-CNN  trecqa         MRR      0.9090  208271   dev\n",
       "6  MP-CNN  trecqa         MAP      0.7686  208271  test\n",
       "7  MP-CNN  trecqa         MRR      0.8305  208271  test"
      ]
     },
     "execution_count": 8,
     "metadata": {},
     "output_type": "execute_result"
    }
   ],
   "source": [
    "trecqa.head(8)"
   ]
  },
  {
   "cell_type": "code",
   "execution_count": 9,
   "metadata": {},
   "outputs": [],
   "source": [
    "archs = ['MP-CNN', 'Horiz', 'Vert', 'Vert. Holistic']\n",
    "#archs = ['MP-CNN', 'Cosine', 'Euclidean', 'AbsDiff']\n",
    "def compare_change_to_baseline(df, metric):\n",
    "    changes = {'MP-CNN': 'baseline'}\n",
    "    config_ids = df['seed'].unique()\n",
    "    for arch in archs:\n",
    "        if arch == 'MP-CNN':\n",
    "            continue\n",
    "\n",
    "        diffs = []\n",
    "        for config_id in config_ids:\n",
    "            baseline = df[(df['seed'] == config_id) & (df['arch'] == 'MP-CNN')].iloc[0]['metric_val']\n",
    "            conf_perf = df[(df['seed'] == config_id) & (df['arch'] == arch)].iloc[0]['metric_val']\n",
    "            diffs.append(conf_perf - baseline)\n",
    "\n",
    "        print(f'Architecture: {arch} comparison only')\n",
    "        print(f'Median of {metric} change compared with MP-CNN baseline: {np.median(diffs):.4f}')\n",
    "        print(f'Mean of {metric} change compared with MP-CNN baseline: {np.mean(diffs):.4f}')\n",
    "        diff = np.median(diffs)\n",
    "        changes[arch] = f'+{diff:.4f}' if diff > 0 else f'{diff:.4f}'\n",
    "    \n",
    "    return changes"
   ]
  },
  {
   "cell_type": "markdown",
   "metadata": {},
   "source": [
    "## TrecQA"
   ]
  },
  {
   "cell_type": "code",
   "execution_count": 10,
   "metadata": {},
   "outputs": [],
   "source": [
    "trec_map_vs_archs_test = trecqa[(trecqa['metric_name'] == 'MAP') & (trecqa['split'] == 'test')]\n",
    "trec_mrr_vs_archs_test = trecqa[(trecqa['metric_name'] == 'MRR') & (trecqa['split'] == 'test')]\n",
    "trec_map_vs_archs_dev = trecqa[(trecqa['metric_name'] == 'MAP') & (trecqa['split'] == 'dev')]\n",
    "trec_mrr_vs_archs_dev = trecqa[(trecqa['metric_name'] == 'MRR') & (trecqa['split'] == 'dev')]"
   ]
  },
  {
   "cell_type": "code",
   "execution_count": 11,
   "metadata": {},
   "outputs": [
    {
     "name": "stdout",
     "output_type": "stream",
     "text": [
      "Horiz: (0.7255, 0.7562)\n",
      "MP-CNN: (0.6811, 0.8095)\n",
      "Vert: (0.7773, 0.7942)\n",
      "Vert. Holistic: (0.7612, 0.7859)\n"
     ]
    }
   ],
   "source": [
    "trec_map_intervals = {}\n",
    "for arch in trec_map_vs_archs_test['arch'].unique():\n",
    "    arr = trec_map_vs_archs_test[trec_map_vs_archs_test['arch'] == arch]['metric_val']\n",
    "    ci = sms.DescrStatsW(arr).tconfint_mean()\n",
    "    print(f'{arch}: ({ci[0]:.4f}, {ci[1]:.4f})')\n",
    "    trec_map_intervals[arch] = (f'{ci[0]:.4f}', f'{ci[1]:.4f}')"
   ]
  },
  {
   "cell_type": "code",
   "execution_count": 12,
   "metadata": {},
   "outputs": [
    {
     "name": "stdout",
     "output_type": "stream",
     "text": [
      "Horiz: (0.8044, 0.8280)\n",
      "MP-CNN: (0.7408, 0.8707)\n",
      "Vert: (0.8276, 0.8576)\n",
      "Vert. Holistic: (0.8218, 0.8440)\n"
     ]
    }
   ],
   "source": [
    "trec_mrr_intervals = {}\n",
    "for arch in trec_mrr_vs_archs_test['arch'].unique():\n",
    "    arr = trec_mrr_vs_archs_test[trec_mrr_vs_archs_test['arch'] == arch]['metric_val']\n",
    "    ci = sms.DescrStatsW(arr).tconfint_mean()\n",
    "    print(f'{arch}: ({ci[0]:.4f}, {ci[1]:.4f})')\n",
    "    trec_mrr_intervals[arch] = (f'{ci[0]:.4f}', f'{ci[1]:.4f}')"
   ]
  },
  {
   "cell_type": "code",
   "execution_count": 13,
   "metadata": {},
   "outputs": [
    {
     "name": "stdout",
     "output_type": "stream",
     "text": [
      "Architecture: Horiz comparison only\n",
      "Median of MAP change compared with MP-CNN baseline: -0.0261\n",
      "Mean of MAP change compared with MP-CNN baseline: -0.0044\n",
      "Architecture: Vert comparison only\n",
      "Median of MAP change compared with MP-CNN baseline: 0.0168\n",
      "Mean of MAP change compared with MP-CNN baseline: 0.0404\n",
      "Architecture: Vert. Holistic comparison only\n",
      "Median of MAP change compared with MP-CNN baseline: -0.0024\n",
      "Mean of MAP change compared with MP-CNN baseline: 0.0283\n"
     ]
    }
   ],
   "source": [
    "trec_map_delta = compare_change_to_baseline(trec_map_vs_archs_test, 'MAP')"
   ]
  },
  {
   "cell_type": "code",
   "execution_count": 14,
   "metadata": {},
   "outputs": [
    {
     "data": {
      "text/html": [
       "<div>\n",
       "<table border=\"1\" class=\"dataframe\">\n",
       "  <thead>\n",
       "    <tr style=\"text-align: right;\">\n",
       "      <th></th>\n",
       "      <th>arch</th>\n",
       "      <th>dataset</th>\n",
       "      <th>metric_name</th>\n",
       "      <th>metric_val</th>\n",
       "      <th>seed</th>\n",
       "      <th>split</th>\n",
       "    </tr>\n",
       "  </thead>\n",
       "  <tbody>\n",
       "    <tr>\n",
       "      <th>2</th>\n",
       "      <td>Horiz</td>\n",
       "      <td>trecqa</td>\n",
       "      <td>MAP</td>\n",
       "      <td>0.7613</td>\n",
       "      <td>208271</td>\n",
       "      <td>test</td>\n",
       "    </tr>\n",
       "    <tr>\n",
       "      <th>26</th>\n",
       "      <td>Horiz</td>\n",
       "      <td>trecqa</td>\n",
       "      <td>MAP</td>\n",
       "      <td>0.7155</td>\n",
       "      <td>839969</td>\n",
       "      <td>test</td>\n",
       "    </tr>\n",
       "    <tr>\n",
       "      <th>38</th>\n",
       "      <td>Horiz</td>\n",
       "      <td>trecqa</td>\n",
       "      <td>MAP</td>\n",
       "      <td>0.7821</td>\n",
       "      <td>207088</td>\n",
       "      <td>test</td>\n",
       "    </tr>\n",
       "    <tr>\n",
       "      <th>54</th>\n",
       "      <td>Horiz</td>\n",
       "      <td>trecqa</td>\n",
       "      <td>MAP</td>\n",
       "      <td>0.7174</td>\n",
       "      <td>673071</td>\n",
       "      <td>test</td>\n",
       "    </tr>\n",
       "    <tr>\n",
       "      <th>66</th>\n",
       "      <td>Horiz</td>\n",
       "      <td>trecqa</td>\n",
       "      <td>MAP</td>\n",
       "      <td>0.7564</td>\n",
       "      <td>905578</td>\n",
       "      <td>test</td>\n",
       "    </tr>\n",
       "    <tr>\n",
       "      <th>86</th>\n",
       "      <td>Horiz</td>\n",
       "      <td>trecqa</td>\n",
       "      <td>MAP</td>\n",
       "      <td>0.7249</td>\n",
       "      <td>590204</td>\n",
       "      <td>test</td>\n",
       "    </tr>\n",
       "    <tr>\n",
       "      <th>102</th>\n",
       "      <td>Horiz</td>\n",
       "      <td>trecqa</td>\n",
       "      <td>MAP</td>\n",
       "      <td>0.7238</td>\n",
       "      <td>918301</td>\n",
       "      <td>test</td>\n",
       "    </tr>\n",
       "    <tr>\n",
       "      <th>106</th>\n",
       "      <td>Horiz</td>\n",
       "      <td>trecqa</td>\n",
       "      <td>MAP</td>\n",
       "      <td>0.7469</td>\n",
       "      <td>796240</td>\n",
       "      <td>test</td>\n",
       "    </tr>\n",
       "    <tr>\n",
       "      <th>130</th>\n",
       "      <td>Horiz</td>\n",
       "      <td>trecqa</td>\n",
       "      <td>MAP</td>\n",
       "      <td>0.7412</td>\n",
       "      <td>753071</td>\n",
       "      <td>test</td>\n",
       "    </tr>\n",
       "    <tr>\n",
       "      <th>154</th>\n",
       "      <td>Horiz</td>\n",
       "      <td>trecqa</td>\n",
       "      <td>MAP</td>\n",
       "      <td>0.7392</td>\n",
       "      <td>490149</td>\n",
       "      <td>test</td>\n",
       "    </tr>\n",
       "  </tbody>\n",
       "</table>\n",
       "</div>"
      ],
      "text/plain": [
       "      arch dataset metric_name  metric_val    seed split\n",
       "2    Horiz  trecqa         MAP      0.7613  208271  test\n",
       "26   Horiz  trecqa         MAP      0.7155  839969  test\n",
       "38   Horiz  trecqa         MAP      0.7821  207088  test\n",
       "54   Horiz  trecqa         MAP      0.7174  673071  test\n",
       "66   Horiz  trecqa         MAP      0.7564  905578  test\n",
       "86   Horiz  trecqa         MAP      0.7249  590204  test\n",
       "102  Horiz  trecqa         MAP      0.7238  918301  test\n",
       "106  Horiz  trecqa         MAP      0.7469  796240  test\n",
       "130  Horiz  trecqa         MAP      0.7412  753071  test\n",
       "154  Horiz  trecqa         MAP      0.7392  490149  test"
      ]
     },
     "execution_count": 14,
     "metadata": {},
     "output_type": "execute_result"
    }
   ],
   "source": [
    "trec_map_vs_archs_test[trec_map_vs_archs_test.arch == 'Horiz']"
   ]
  },
  {
   "cell_type": "code",
   "execution_count": 15,
   "metadata": {},
   "outputs": [
    {
     "name": "stdout",
     "output_type": "stream",
     "text": [
      "Architecture: Horiz comparison only\n",
      "Median of MRR change compared with MP-CNN baseline: -0.0118\n",
      "Mean of MRR change compared with MP-CNN baseline: 0.0104\n",
      "Architecture: Vert comparison only\n",
      "Median of MRR change compared with MP-CNN baseline: 0.0179\n",
      "Mean of MRR change compared with MP-CNN baseline: 0.0368\n",
      "Architecture: Vert. Holistic comparison only\n",
      "Median of MRR change compared with MP-CNN baseline: 0.0061\n",
      "Mean of MRR change compared with MP-CNN baseline: 0.0271\n"
     ]
    }
   ],
   "source": [
    "trec_mrr_delta = compare_change_to_baseline(trec_mrr_vs_archs_test, 'MRR')"
   ]
  },
  {
   "cell_type": "markdown",
   "metadata": {},
   "source": [
    "## WikiQA"
   ]
  },
  {
   "cell_type": "code",
   "execution_count": 16,
   "metadata": {},
   "outputs": [],
   "source": [
    "wikiqa_map_vs_archs_test = wikiqa[(wikiqa['metric_name'] == 'MAP') & (wikiqa['split'] == 'test')]\n",
    "wikiqa_mrr_vs_archs_test = wikiqa[(wikiqa['metric_name'] == 'MRR') & (wikiqa['split'] == 'test')]\n",
    "wikiqa_map_vs_archs_dev = wikiqa[(wikiqa['metric_name'] == 'MAP') & (wikiqa['split'] == 'dev')]\n",
    "wikiqa_mrr_vs_archs_dev = wikiqa[(wikiqa['metric_name'] == 'MRR') & (wikiqa['split'] == 'dev')]"
   ]
  },
  {
   "cell_type": "code",
   "execution_count": 17,
   "metadata": {},
   "outputs": [
    {
     "name": "stdout",
     "output_type": "stream",
     "text": [
      "MP-CNN: (0.5790, 0.7327)\n",
      "Horiz: (0.6865, 0.6962)\n",
      "Vert. Holistic: (0.6917, 0.7022)\n",
      "Vert: (0.6984, 0.7092)\n"
     ]
    }
   ],
   "source": [
    "wikiqa_map_intervals = {}\n",
    "for arch in wikiqa_map_vs_archs_test['arch'].unique():\n",
    "    arr = wikiqa_map_vs_archs_test[wikiqa_map_vs_archs_test['arch'] == arch]['metric_val']\n",
    "    ci = sms.DescrStatsW(arr).tconfint_mean()\n",
    "    print(f'{arch}: ({ci[0]:.4f}, {ci[1]:.4f})')\n",
    "    wikiqa_map_intervals[arch] = (f'{ci[0]:.4f}', f'{ci[1]:.4f}')"
   ]
  },
  {
   "cell_type": "code",
   "execution_count": 18,
   "metadata": {},
   "outputs": [
    {
     "name": "stdout",
     "output_type": "stream",
     "text": [
      "MP-CNN: (0.5857, 0.7465)\n",
      "Horiz: (0.7000, 0.7094)\n",
      "Vert. Holistic: (0.7047, 0.7173)\n",
      "Vert: (0.7106, 0.7224)\n"
     ]
    }
   ],
   "source": [
    "wikiqa_mrr_intervals = {}\n",
    "for arch in wikiqa_mrr_vs_archs_test['arch'].unique():\n",
    "    arr = wikiqa_mrr_vs_archs_test[wikiqa_mrr_vs_archs_test['arch'] == arch]['metric_val']\n",
    "    ci = sms.DescrStatsW(arr).tconfint_mean()\n",
    "    print(f'{arch}: ({ci[0]:.4f}, {ci[1]:.4f})')\n",
    "    wikiqa_mrr_intervals[arch] = (f'{ci[0]:.4f}', f'{ci[1]:.4f}')"
   ]
  },
  {
   "cell_type": "code",
   "execution_count": 19,
   "metadata": {},
   "outputs": [
    {
     "name": "stdout",
     "output_type": "stream",
     "text": [
      "Architecture: Horiz comparison only\n",
      "Median of MAP change compared with MP-CNN baseline: -0.0168\n",
      "Mean of MAP change compared with MP-CNN baseline: 0.0355\n",
      "Architecture: Vert comparison only\n",
      "Median of MAP change compared with MP-CNN baseline: -0.0040\n",
      "Mean of MAP change compared with MP-CNN baseline: 0.0479\n",
      "Architecture: Vert. Holistic comparison only\n",
      "Median of MAP change compared with MP-CNN baseline: -0.0123\n",
      "Mean of MAP change compared with MP-CNN baseline: 0.0411\n"
     ]
    }
   ],
   "source": [
    "wikiqa_map_delta = compare_change_to_baseline(wikiqa_map_vs_archs_test, 'MAP')"
   ]
  },
  {
   "cell_type": "code",
   "execution_count": 20,
   "metadata": {},
   "outputs": [
    {
     "name": "stdout",
     "output_type": "stream",
     "text": [
      "Architecture: Horiz comparison only\n",
      "Median of MRR change compared with MP-CNN baseline: -0.0182\n",
      "Mean of MRR change compared with MP-CNN baseline: 0.0386\n",
      "Architecture: Vert comparison only\n",
      "Median of MRR change compared with MP-CNN baseline: -0.0038\n",
      "Mean of MRR change compared with MP-CNN baseline: 0.0504\n",
      "Architecture: Vert. Holistic comparison only\n",
      "Median of MRR change compared with MP-CNN baseline: -0.0142\n",
      "Mean of MRR change compared with MP-CNN baseline: 0.0449\n"
     ]
    }
   ],
   "source": [
    "wikiqa_mrr_delta = compare_change_to_baseline(wikiqa_mrr_vs_archs_test, 'MRR')"
   ]
  },
  {
   "cell_type": "markdown",
   "metadata": {},
   "source": [
    "## SICK"
   ]
  },
  {
   "cell_type": "code",
   "execution_count": 21,
   "metadata": {},
   "outputs": [],
   "source": [
    "sick_pearson_vs_archs_test = sick[(sick['metric_name'] == 'pearson') & (sick['split'] == 'test')]\n",
    "sick_spearman_vs_archs_test = sick[(sick['metric_name'] == 'spearman') & (sick['split'] == 'test')]\n",
    "sick_pearson_vs_archs_dev = sick[(sick['metric_name'] == 'pearson') & (sick['split'] == 'dev')]\n",
    "sick_spearman_vs_archs_dev = sick[(sick['metric_name'] == 'spearman') & (sick['split'] == 'dev')]"
   ]
  },
  {
   "cell_type": "code",
   "execution_count": 22,
   "metadata": {},
   "outputs": [
    {
     "name": "stdout",
     "output_type": "stream",
     "text": [
      "MP-CNN: (0.8660, 0.8714)\n",
      "Horiz: (0.8561, 0.8587)\n",
      "Vert: (0.8643, 0.8707)\n",
      "Vert. Holistic: (0.8620, 0.8677)\n"
     ]
    }
   ],
   "source": [
    "sick_pearson_intervals = {}\n",
    "for arch in sick_pearson_vs_archs_test['arch'].unique():\n",
    "    arr = sick_pearson_vs_archs_test[sick_pearson_vs_archs_test['arch'] == arch]['metric_val']\n",
    "    ci = sms.DescrStatsW(arr).tconfint_mean()\n",
    "    print(f'{arch}: ({ci[0]:.4f}, {ci[1]:.4f})')\n",
    "    sick_pearson_intervals[arch] = (f'{ci[0]:.4f}', f'{ci[1]:.4f}')"
   ]
  },
  {
   "cell_type": "code",
   "execution_count": 23,
   "metadata": {},
   "outputs": [
    {
     "name": "stdout",
     "output_type": "stream",
     "text": [
      "MP-CNN: (0.8037, 0.8098)\n",
      "Horiz: (0.7948, 0.7987)\n",
      "Vert: (0.7990, 0.8065)\n",
      "Vert. Holistic: (0.7973, 0.8043)\n"
     ]
    }
   ],
   "source": [
    "sick_spearman_intervals = {}\n",
    "for arch in sick_spearman_vs_archs_test['arch'].unique():\n",
    "    arr = sick_spearman_vs_archs_test[sick_spearman_vs_archs_test['arch'] == arch]['metric_val']\n",
    "    ci = sms.DescrStatsW(arr).tconfint_mean()\n",
    "    print(f'{arch}: ({ci[0]:.4f}, {ci[1]:.4f})')\n",
    "    sick_spearman_intervals[arch] = (f'{ci[0]:.4f}', f'{ci[1]:.4f}')"
   ]
  },
  {
   "cell_type": "code",
   "execution_count": 24,
   "metadata": {},
   "outputs": [
    {
     "name": "stdout",
     "output_type": "stream",
     "text": [
      "Architecture: Horiz comparison only\n",
      "Median of pearson change compared with MP-CNN baseline: -0.0115\n",
      "Mean of pearson change compared with MP-CNN baseline: -0.0113\n",
      "Architecture: Vert comparison only\n",
      "Median of pearson change compared with MP-CNN baseline: -0.0011\n",
      "Mean of pearson change compared with MP-CNN baseline: -0.0012\n",
      "Architecture: Vert. Holistic comparison only\n",
      "Median of pearson change compared with MP-CNN baseline: -0.0036\n",
      "Mean of pearson change compared with MP-CNN baseline: -0.0038\n"
     ]
    }
   ],
   "source": [
    "sick_pearson_delta = compare_change_to_baseline(sick_pearson_vs_archs_test, 'pearson')"
   ]
  },
  {
   "cell_type": "code",
   "execution_count": 25,
   "metadata": {},
   "outputs": [
    {
     "name": "stdout",
     "output_type": "stream",
     "text": [
      "Architecture: Horiz comparison only\n",
      "Median of spearman change compared with MP-CNN baseline: -0.0100\n",
      "Mean of spearman change compared with MP-CNN baseline: -0.0100\n",
      "Architecture: Vert comparison only\n",
      "Median of spearman change compared with MP-CNN baseline: -0.0038\n",
      "Mean of spearman change compared with MP-CNN baseline: -0.0040\n",
      "Architecture: Vert. Holistic comparison only\n",
      "Median of spearman change compared with MP-CNN baseline: -0.0062\n",
      "Mean of spearman change compared with MP-CNN baseline: -0.0059\n"
     ]
    }
   ],
   "source": [
    "sick_spearman_delta = compare_change_to_baseline(sick_spearman_vs_archs_test, 'spearman')"
   ]
  },
  {
   "cell_type": "code",
   "execution_count": 27,
   "metadata": {},
   "outputs": [
    {
     "data": {
      "image/png": "[encoded data removed]",
      "text/plain": [
       "<matplotlib.figure.Figure at 0x7f27de5e9cf8>"
      ]
     },
     "metadata": {},
     "output_type": "display_data"
    }
   ],
   "source": [
    "fig, ax = plt.subplots()\n",
    "fig.set_size_inches(11.7, 7)\n",
    "title_size = 18\n",
    "axis_size = 16\n",
    "tick_size = 14\n",
    "\n",
    "ax = plt.subplot(321)\n",
    "sns.boxplot(x='arch', y='metric_val', data=trec_map_vs_archs_test, order=archs, ax=ax)\n",
    "plt.ylabel('TrecQA\\nMAP', fontsize=axis_size)\n",
    "plt.yticks(fontsize=tick_size)\n",
    "plt.ylim((0.7, 0.83))\n",
    "plt.xlabel('', fontsize=axis_size)\n",
    "plt.xticks(fontsize=tick_size)\n",
    "ax.xaxis.set_ticklabels([trec_map_delta[a] for a in archs])\n",
    "ylim = ax.get_ylim()\n",
    "for i, a in enumerate(archs):\n",
    "    ax.text(0.2+i*1, ylim[0] + 0.1*(ylim[1] - ylim[0]), trec_map_intervals[a][0])\n",
    "    ax.text(0.2+i*1, ylim[0] + 0.9*(ylim[1] - ylim[0]), trec_map_intervals[a][1])\n",
    "\n",
    "ax = plt.subplot(322)\n",
    "sns.boxplot(x='arch', y='metric_val', data=trec_mrr_vs_archs_test, order=archs, ax=ax)\n",
    "plt.ylabel('MRR', fontsize=axis_size)\n",
    "plt.xlabel('', fontsize=axis_size)\n",
    "plt.xticks(fontsize=tick_size)\n",
    "plt.yticks(fontsize=tick_size)\n",
    "plt.ylim((0.78, 0.88))\n",
    "ax.xaxis.set_ticklabels([trec_mrr_delta[a] for a in archs])\n",
    "ylim = ax.get_ylim()\n",
    "for i, a in enumerate(archs):\n",
    "    ax.text(0.2+i*1, ylim[0] + 0.1*(ylim[1] - ylim[0]), trec_mrr_intervals[a][0])\n",
    "    ax.text(0.2+i*1, ylim[0] + 0.9*(ylim[1] - ylim[0]), trec_mrr_intervals[a][1])\n",
    "\n",
    "ax = plt.subplot(323)\n",
    "sns.boxplot(x='arch', y='metric_val', data=wikiqa_map_vs_archs_test, order=archs, ax=ax)\n",
    "plt.ylabel('WikiQA\\nMAP', fontsize=axis_size)\n",
    "plt.yticks(fontsize=tick_size)\n",
    "plt.ylim((0.58, 0.77))\n",
    "plt.xlabel('', fontsize=axis_size)\n",
    "plt.xticks(fontsize=tick_size)\n",
    "ax.xaxis.set_ticklabels([wikiqa_map_delta[a] for a in archs])\n",
    "ylim = ax.get_ylim()\n",
    "for i, a in enumerate(archs):\n",
    "    ax.text(0.2+i*1, ylim[0] + 0.1*(ylim[1] - ylim[0]), wikiqa_map_intervals[a][0])\n",
    "    ax.text(0.2+i*1, ylim[0] + 0.9*(ylim[1] - ylim[0]), wikiqa_map_intervals[a][1])\n",
    "\n",
    "ax = plt.subplot(324)\n",
    "sns.boxplot(x='arch', y='metric_val', data=wikiqa_mrr_vs_archs_test, order=archs, ax=ax)\n",
    "plt.ylabel('MRR', fontsize=axis_size)\n",
    "plt.yticks(fontsize=tick_size)\n",
    "plt.ylim((0.58, 0.77))\n",
    "plt.xlabel('', fontsize=axis_size)\n",
    "plt.xticks(fontsize=tick_size)\n",
    "ax.xaxis.set_ticklabels([wikiqa_mrr_delta[a] for a in archs])\n",
    "ylim = ax.get_ylim()\n",
    "for i, a in enumerate(archs):\n",
    "    ax.text(0.2+i*1, ylim[0] + 0.1*(ylim[1] - ylim[0]), wikiqa_mrr_intervals[a][0])\n",
    "    ax.text(0.2+i*1, ylim[0] + 0.9*(ylim[1] - ylim[0]), wikiqa_mrr_intervals[a][1])\n",
    "\n",
    "ax = plt.subplot(325)\n",
    "sns.boxplot(x='arch', y='metric_val', data=sick_pearson_vs_archs_test, order=archs, ax=ax)\n",
    "plt.ylabel(\"SICK\\nPearson's r\", fontsize=axis_size)\n",
    "plt.xlabel('Architecture', fontsize=axis_size)\n",
    "plt.xticks(fontsize=tick_size)\n",
    "plt.yticks(fontsize=tick_size)\n",
    "ax.xaxis.set_ticklabels([sick_pearson_delta[a] + '\\n' + a for a in archs])\n",
    "ylim = ax.get_ylim()\n",
    "for i, a in enumerate(archs):\n",
    "    ax.text(0.2+i*1, ylim[0] + 0.05*(ylim[1] - ylim[0]), sick_pearson_intervals[a][0])\n",
    "    ax.text(0.2+i*1, ylim[0] + 0.9*(ylim[1] - ylim[0]), sick_pearson_intervals[a][1])\n",
    "\n",
    "ax = plt.subplot(326)\n",
    "sns.boxplot(x='arch', y='metric_val', data=sick_spearman_vs_archs_test, order=archs, ax=ax)\n",
    "plt.ylabel(\"Spearman's p\", fontsize=axis_size)\n",
    "plt.xlabel('Architecture', fontsize=axis_size)\n",
    "plt.xticks(fontsize=tick_size)\n",
    "plt.yticks(fontsize=tick_size)\n",
    "ax.xaxis.set_ticklabels([sick_spearman_delta[a] + '\\n' + a for a in archs])\n",
    "ylim = ax.get_ylim()\n",
    "for i, a in enumerate(archs):\n",
    "    ax.text(0.2+i*1, ylim[0] + 0.1*(ylim[1] - ylim[0]), sick_spearman_intervals[a][0])\n",
    "    ax.text(0.2+i*1, ylim[0] + 0.9*(ylim[1] - ylim[0]), sick_spearman_intervals[a][1])\n",
    "plt.tight_layout()\n",
    "# plt.subplots_adjust(top=0.8, hspace=0.2)\n",
    "plt.savefig('comp_algo_arch_violin.pdf')"
   ]
  },
  {
   "cell_type": "code",
   "execution_count": null,
   "metadata": {},
   "outputs": [],
   "source": []
  },
  {
   "cell_type": "code",
   "execution_count": null,
   "metadata": {},
   "outputs": [],
   "source": []
  }
 ],
 "metadata": {
  "kernelspec": {
   "display_name": "Python 3",
   "language": "python",
   "name": "python3"
  },
  "language_info": {
   "codemirror_mode": {
    "name": "ipython",
    "version": 3
   },
   "file_extension": ".py",
   "mimetype": "text/x-python",
   "name": "python",
   "nbconvert_exporter": "python",
   "pygments_lexer": "ipython3",
   "version": "3.6.4"
  }
 },
 "nbformat": 4,
 "nbformat_minor": 2
}
