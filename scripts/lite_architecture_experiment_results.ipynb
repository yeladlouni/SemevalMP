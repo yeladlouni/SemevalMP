{
 "cells": [
  {
   "cell_type": "markdown",
   "metadata": {},
   "source": [
    "# Lite Architecture Experiment Results"
   ]
  },
  {
   "cell_type": "code",
   "execution_count": 1,
   "metadata": {},
   "outputs": [],
   "source": [
    "import json\n",
    "\n",
    "import numpy as np\n",
    "import pandas as pd\n",
    "import matplotlib.pyplot as plt\n",
    "import seaborn as sns\n",
    "import scipy.stats as st\n",
    "import statsmodels.stats.api as sms\n",
    "\n",
    "from db import conn"
   ]
  },
  {
   "cell_type": "code",
   "execution_count": 2,
   "metadata": {},
   "outputs": [],
   "source": [
    "%matplotlib inline"
   ]
  },
  {
   "cell_type": "code",
   "execution_count": 3,
   "metadata": {},
   "outputs": [],
   "source": [
    "sns.set_style(\"whitegrid\")"
   ]
  },
  {
   "cell_type": "code",
   "execution_count": 4,
   "metadata": {},
   "outputs": [],
   "source": [
    "cursor = conn.cursor()\n",
    "experiment_rows = [r for r in cursor.execute(\"\"\"\n",
    "    select g.name, args, dev_metric, test_metric from experiments e\n",
    "    join experiment_groups g on e.group_id=g.gid\n",
    "    where g.name=?\"\"\", ('mpcnn-v2-lite-fix-params-and-seed',))]"
   ]
  },
  {
   "cell_type": "code",
   "execution_count": 5,
   "metadata": {},
   "outputs": [
    {
     "data": {
      "text/plain": [
       "150"
      ]
     },
     "execution_count": 5,
     "metadata": {},
     "output_type": "execute_result"
    }
   ],
   "source": [
    "len(experiment_rows)"
   ]
  },
  {
   "cell_type": "code",
   "execution_count": 6,
   "metadata": {},
   "outputs": [],
   "source": [
    "experiment_results = {\n",
    "    'trecqa': [],\n",
    "    'wikiqa': [],\n",
    "    'sick': []\n",
    "}\n",
    "\n",
    "for row in experiment_rows:\n",
    "    args = json.loads(row[1])\n",
    "    dev_metrics = json.loads(row[2])\n",
    "    test_metrics = json.loads(row[3])\n",
    "    dataset = args['dataset']\n",
    "    \n",
    "    if args['arch'] == 'mpcnn_no_per_dim_no_multi_pooling':\n",
    "        arch = 'MP-CNN Lite'\n",
    "    elif args['arch'] == 'mpcnn_no_per_dim_no_multi_pooling_no_horiz' or args['arch'] == 'mpcnn_no_per_dim_no_multi_pooling_no_horiz_no_inf':\n",
    "        continue\n",
    "    elif args['arch'] == 'smcnn_with_comp':\n",
    "        arch = 'SM-CNN w/ Comp'\n",
    "    else:\n",
    "        arch = 'MP-CNN'\n",
    "    \n",
    "    res_base = {\n",
    "        'arch': arch,\n",
    "        'dataset': dataset,\n",
    "        'seed': args['seed']\n",
    "    }\n",
    "    \n",
    "    results = []\n",
    "    \n",
    "    if dataset in ('trecqa', 'wikiqa'):\n",
    "        results.append({**res_base, **{'split': 'dev', 'metric_name': 'MAP', 'metric_val': dev_metrics['map']}})\n",
    "        results.append({**res_base, **{'split': 'dev', 'metric_name': 'MRR', 'metric_val': dev_metrics['mrr']}})\n",
    "        results.append({**res_base, **{'split': 'test', 'metric_name': 'MAP', 'metric_val': test_metrics['map']}})\n",
    "        results.append({**res_base, **{'split': 'test', 'metric_name': 'MRR', 'metric_val': test_metrics['mrr']}})\n",
    "    elif dataset == 'sick':\n",
    "        results.append({**res_base, **{'split': 'dev', 'metric_name': 'pearson', 'metric_val': dev_metrics['pearson']}})\n",
    "        results.append({**res_base, **{'split': 'dev', 'metric_name': 'spearman', 'metric_val': dev_metrics['spearman']}})\n",
    "        results.append({**res_base, **{'split': 'test', 'metric_name': 'pearson', 'metric_val': test_metrics['pearson']}})\n",
    "        results.append({**res_base, **{'split': 'test', 'metric_name': 'spearman', 'metric_val': test_metrics['spearman']}})\n",
    "    \n",
    "    experiment_results[dataset].extend(results)"
   ]
  },
  {
   "cell_type": "code",
   "execution_count": 7,
   "metadata": {},
   "outputs": [],
   "source": [
    "trecqa = pd.DataFrame(experiment_results['trecqa'])\n",
    "wikiqa = pd.DataFrame(experiment_results['wikiqa'])\n",
    "sick = pd.DataFrame(experiment_results['sick'])"
   ]
  },
  {
   "cell_type": "code",
   "execution_count": 8,
   "metadata": {},
   "outputs": [
    {
     "data": {
      "text/plain": [
       "array(['MP-CNN', 'MP-CNN Lite', 'SM-CNN w/ Comp'], dtype=object)"
      ]
     },
     "execution_count": 8,
     "metadata": {},
     "output_type": "execute_result"
    }
   ],
   "source": [
    "trecqa['arch'].unique()"
   ]
  },
  {
   "cell_type": "code",
   "execution_count": 9,
   "metadata": {},
   "outputs": [],
   "source": [
    "archs = ['MP-CNN', 'MP-CNN Lite', 'SM-CNN w/ Comp']\n",
    "def compare_change_to_baseline(df, metric):\n",
    "    changes = {'MP-CNN': 'baseline'}\n",
    "    config_ids = df['seed'].unique()\n",
    "    for arch in archs:\n",
    "        if arch == 'MP-CNN':\n",
    "            continue\n",
    "\n",
    "        diffs = []\n",
    "        for config_id in config_ids:\n",
    "            baseline = df[(df['seed'] == config_id) & (df['arch'] == 'MP-CNN')].iloc[0]['metric_val']\n",
    "            conf_perf = df[(df['seed'] == config_id) & (df['arch'] == arch)].iloc[0]['metric_val']\n",
    "            diffs.append(conf_perf - baseline)\n",
    "\n",
    "        print(f'Architecture: {arch}')\n",
    "        print(f'Median of {metric} change compared with single baseline: {np.median(diffs):.4f}')\n",
    "        print(f'Mean of {metric} change compared with single baseline: {np.mean(diffs):.4f}')\n",
    "        diff = np.median(diffs)\n",
    "        changes[arch] = f'+{diff:.4f}' if diff > 0 else f'{diff:.4f}'\n",
    "    \n",
    "    return changes"
   ]
  },
  {
   "cell_type": "markdown",
   "metadata": {},
   "source": [
    "## TrecQA"
   ]
  },
  {
   "cell_type": "code",
   "execution_count": 10,
   "metadata": {},
   "outputs": [],
   "source": [
    "trec_map_vs_archs_test = trecqa[(trecqa['metric_name'] == 'MAP') & (trecqa['split'] == 'test')]\n",
    "trec_mrr_vs_archs_test = trecqa[(trecqa['metric_name'] == 'MRR') & (trecqa['split'] == 'test')]\n",
    "trec_map_vs_archs_dev = trecqa[(trecqa['metric_name'] == 'MAP') & (trecqa['split'] == 'dev')]\n",
    "trec_mrr_vs_archs_dev = trecqa[(trecqa['metric_name'] == 'MRR') & (trecqa['split'] == 'dev')]"
   ]
  },
  {
   "cell_type": "code",
   "execution_count": 11,
   "metadata": {},
   "outputs": [
    {
     "name": "stdout",
     "output_type": "stream",
     "text": [
      "MP-CNN: (0.7252, 0.8184)\n",
      "MP-CNN Lite: (0.7561, 0.7840)\n",
      "SM-CNN w/ Comp: (0.6644, 0.6808)\n"
     ]
    }
   ],
   "source": [
    "trec_map_intervals = {}\n",
    "for arch in trec_map_vs_archs_test['arch'].unique():\n",
    "    arr = trec_map_vs_archs_test[trec_map_vs_archs_test['arch'] == arch]['metric_val']\n",
    "    ci = sms.DescrStatsW(arr).tconfint_mean()\n",
    "    print(f'{arch}: ({ci[0]:.4f}, {ci[1]:.4f})')\n",
    "    trec_map_intervals[arch] = (f'{ci[0]:.4f}', f'{ci[1]:.4f}')"
   ]
  },
  {
   "cell_type": "code",
   "execution_count": 12,
   "metadata": {},
   "outputs": [
    {
     "name": "stdout",
     "output_type": "stream",
     "text": [
      "MP-CNN: (0.7550, 0.8406)\n",
      "MP-CNN Lite: (0.8299, 0.8550)\n",
      "SM-CNN w/ Comp: (0.7553, 0.7788)\n"
     ]
    }
   ],
   "source": [
    "trec_mrr_intervals = {}\n",
    "for arch in trec_mrr_vs_archs_test['arch'].unique():\n",
    "    arr = trec_mrr_vs_archs_test[trec_mrr_vs_archs_test['arch'] == arch]['metric_val']\n",
    "    ci = sms.DescrStatsW(arr).tconfint_mean()\n",
    "    print(f'{arch}: ({ci[0]:.4f}, {ci[1]:.4f})')\n",
    "    trec_mrr_intervals[arch] = (f'{ci[0]:.4f}', f'{ci[1]:.4f}')"
   ]
  },
  {
   "cell_type": "code",
   "execution_count": 13,
   "metadata": {},
   "outputs": [
    {
     "name": "stdout",
     "output_type": "stream",
     "text": [
      "Architecture: MP-CNN Lite\n",
      "Median of MAP change compared with single baseline: -0.0245\n",
      "Mean of MAP change compared with single baseline: -0.0017\n",
      "Architecture: SM-CNN w/ Comp\n",
      "Median of MAP change compared with single baseline: -0.1256\n",
      "Mean of MAP change compared with single baseline: -0.0992\n"
     ]
    }
   ],
   "source": [
    "trec_map_delta = compare_change_to_baseline(trec_map_vs_archs_test, 'MAP')"
   ]
  },
  {
   "cell_type": "code",
   "execution_count": 14,
   "metadata": {},
   "outputs": [
    {
     "name": "stdout",
     "output_type": "stream",
     "text": [
      "Architecture: MP-CNN Lite\n",
      "Median of MRR change compared with single baseline: 0.0388\n",
      "Mean of MRR change compared with single baseline: 0.0447\n",
      "Architecture: SM-CNN w/ Comp\n",
      "Median of MRR change compared with single baseline: -0.0356\n",
      "Mean of MRR change compared with single baseline: -0.0307\n"
     ]
    }
   ],
   "source": [
    "trec_mrr_delta = compare_change_to_baseline(trec_mrr_vs_archs_test, 'MRR')"
   ]
  },
  {
   "cell_type": "markdown",
   "metadata": {},
   "source": [
    "## WikiQA"
   ]
  },
  {
   "cell_type": "code",
   "execution_count": 15,
   "metadata": {},
   "outputs": [],
   "source": [
    "wikiqa_map_vs_archs_test = wikiqa[(wikiqa['metric_name'] == 'MAP') & (wikiqa['split'] == 'test')]\n",
    "wikiqa_mrr_vs_archs_test = wikiqa[(wikiqa['metric_name'] == 'MRR') & (wikiqa['split'] == 'test')]\n",
    "wikiqa_map_vs_archs_dev = wikiqa[(wikiqa['metric_name'] == 'MAP') & (wikiqa['split'] == 'dev')]\n",
    "wikiqa_mrr_vs_archs_dev = wikiqa[(wikiqa['metric_name'] == 'MRR') & (wikiqa['split'] == 'dev')]"
   ]
  },
  {
   "cell_type": "code",
   "execution_count": 16,
   "metadata": {},
   "outputs": [
    {
     "name": "stdout",
     "output_type": "stream",
     "text": [
      "MP-CNN: (0.5796, 0.6868)\n",
      "MP-CNN Lite: (0.6815, 0.7009)\n",
      "SM-CNN w/ Comp: (0.6449, 0.6577)\n"
     ]
    }
   ],
   "source": [
    "wikiqa_map_intervals = {}\n",
    "for arch in wikiqa_map_vs_archs_test['arch'].unique():\n",
    "    arr = wikiqa_map_vs_archs_test[wikiqa_map_vs_archs_test['arch'] == arch]['metric_val']\n",
    "    ci = sms.DescrStatsW(arr).tconfint_mean()\n",
    "    print(f'{arch}: ({ci[0]:.4f}, {ci[1]:.4f})')\n",
    "    wikiqa_map_intervals[arch] = (f'{ci[0]:.4f}', f'{ci[1]:.4f}')"
   ]
  },
  {
   "cell_type": "code",
   "execution_count": 17,
   "metadata": {},
   "outputs": [
    {
     "name": "stdout",
     "output_type": "stream",
     "text": [
      "MP-CNN: (0.5803, 0.6957)\n",
      "MP-CNN Lite: (0.6969, 0.7143)\n",
      "SM-CNN w/ Comp: (0.6609, 0.6730)\n"
     ]
    }
   ],
   "source": [
    "wikiqa_mrr_intervals = {}\n",
    "for arch in wikiqa_mrr_vs_archs_test['arch'].unique():\n",
    "    arr = wikiqa_mrr_vs_archs_test[wikiqa_mrr_vs_archs_test['arch'] == arch]['metric_val']\n",
    "    ci = sms.DescrStatsW(arr).tconfint_mean()\n",
    "    print(f'{arch}: ({ci[0]:.4f}, {ci[1]:.4f})')\n",
    "    wikiqa_mrr_intervals[arch] = (f'{ci[0]:.4f}', f'{ci[1]:.4f}')"
   ]
  },
  {
   "cell_type": "code",
   "execution_count": 18,
   "metadata": {},
   "outputs": [
    {
     "name": "stdout",
     "output_type": "stream",
     "text": [
      "Architecture: MP-CNN Lite\n",
      "Median of MAP change compared with single baseline: 0.0916\n",
      "Mean of MAP change compared with single baseline: 0.0580\n",
      "Architecture: SM-CNN w/ Comp\n",
      "Median of MAP change compared with single baseline: 0.0476\n",
      "Mean of MAP change compared with single baseline: 0.0180\n"
     ]
    }
   ],
   "source": [
    "wikiqa_map_delta = compare_change_to_baseline(wikiqa_map_vs_archs_test, 'MAP')"
   ]
  },
  {
   "cell_type": "code",
   "execution_count": 19,
   "metadata": {},
   "outputs": [
    {
     "name": "stdout",
     "output_type": "stream",
     "text": [
      "Architecture: MP-CNN Lite\n",
      "Median of MRR change compared with single baseline: 0.1050\n",
      "Mean of MRR change compared with single baseline: 0.0676\n",
      "Architecture: SM-CNN w/ Comp\n",
      "Median of MRR change compared with single baseline: 0.0634\n",
      "Mean of MRR change compared with single baseline: 0.0289\n"
     ]
    }
   ],
   "source": [
    "wikiqa_mrr_delta = compare_change_to_baseline(wikiqa_mrr_vs_archs_test, 'MRR')"
   ]
  },
  {
   "cell_type": "markdown",
   "metadata": {},
   "source": [
    "## SICK"
   ]
  },
  {
   "cell_type": "code",
   "execution_count": 20,
   "metadata": {},
   "outputs": [],
   "source": [
    "sick_pearson_vs_archs_test = sick[(sick['metric_name'] == 'pearson') & (sick['split'] == 'test')]\n",
    "sick_spearman_vs_archs_test = sick[(sick['metric_name'] == 'spearman') & (sick['split'] == 'test')]\n",
    "sick_pearson_vs_archs_dev = sick[(sick['metric_name'] == 'pearson') & (sick['split'] == 'dev')]\n",
    "sick_spearman_vs_archs_dev = sick[(sick['metric_name'] == 'spearman') & (sick['split'] == 'dev')]"
   ]
  },
  {
   "cell_type": "code",
   "execution_count": 21,
   "metadata": {},
   "outputs": [
    {
     "name": "stdout",
     "output_type": "stream",
     "text": [
      "MP-CNN: (0.8327, 0.8829)\n",
      "MP-CNN Lite: (0.8637, 0.8716)\n",
      "SM-CNN w/ Comp: (0.8211, 0.8290)\n"
     ]
    }
   ],
   "source": [
    "sick_pearson_intervals = {}\n",
    "for arch in sick_pearson_vs_archs_test['arch'].unique():\n",
    "    arr = sick_pearson_vs_archs_test[sick_pearson_vs_archs_test['arch'] == arch]['metric_val']\n",
    "    ci = sms.DescrStatsW(arr).tconfint_mean()\n",
    "    print(f'{arch}: ({ci[0]:.4f}, {ci[1]:.4f})')\n",
    "    sick_pearson_intervals[arch] = (f'{ci[0]:.4f}', f'{ci[1]:.4f}')"
   ]
  },
  {
   "cell_type": "code",
   "execution_count": 22,
   "metadata": {},
   "outputs": [
    {
     "name": "stdout",
     "output_type": "stream",
     "text": [
      "MP-CNN: (0.8025, 0.8126)\n",
      "MP-CNN Lite: (0.7995, 0.8102)\n",
      "SM-CNN w/ Comp: (0.7616, 0.7680)\n"
     ]
    }
   ],
   "source": [
    "sick_spearman_intervals = {}\n",
    "for arch in sick_spearman_vs_archs_test['arch'].unique():\n",
    "    arr = sick_spearman_vs_archs_test[sick_spearman_vs_archs_test['arch'] == arch]['metric_val']\n",
    "    ci = sms.DescrStatsW(arr).tconfint_mean()\n",
    "    print(f'{arch}: ({ci[0]:.4f}, {ci[1]:.4f})')\n",
    "    sick_spearman_intervals[arch] = (f'{ci[0]:.4f}', f'{ci[1]:.4f}')"
   ]
  },
  {
   "cell_type": "code",
   "execution_count": 23,
   "metadata": {},
   "outputs": [
    {
     "name": "stdout",
     "output_type": "stream",
     "text": [
      "Architecture: MP-CNN Lite\n",
      "Median of pearson change compared with single baseline: -0.0022\n",
      "Mean of pearson change compared with single baseline: 0.0099\n",
      "Architecture: SM-CNN w/ Comp\n",
      "Median of pearson change compared with single baseline: -0.0432\n",
      "Mean of pearson change compared with single baseline: -0.0328\n"
     ]
    }
   ],
   "source": [
    "sick_pearson_delta = compare_change_to_baseline(sick_pearson_vs_archs_test, 'pearson')"
   ]
  },
  {
   "cell_type": "code",
   "execution_count": 24,
   "metadata": {},
   "outputs": [
    {
     "name": "stdout",
     "output_type": "stream",
     "text": [
      "Architecture: MP-CNN Lite\n",
      "Median of spearman change compared with single baseline: -0.0055\n",
      "Mean of spearman change compared with single baseline: -0.0026\n",
      "Architecture: SM-CNN w/ Comp\n",
      "Median of spearman change compared with single baseline: -0.0432\n",
      "Mean of spearman change compared with single baseline: -0.0427\n"
     ]
    }
   ],
   "source": [
    "sick_spearman_delta = compare_change_to_baseline(sick_spearman_vs_archs_test, 'spearman')"
   ]
  },
  {
   "cell_type": "code",
   "execution_count": 27,
   "metadata": {},
   "outputs": [
    {
     "data": {
      "image/png": "[encoded data removed]",
      "text/plain": [
       "<matplotlib.figure.Figure at 0x7f362c65b3c8>"
      ]
     },
     "metadata": {},
     "output_type": "display_data"
    }
   ],
   "source": [
    "fig, ax = plt.subplots()\n",
    "fig.set_size_inches(11.7, 6)\n",
    "title_size = 18\n",
    "axis_size = 16\n",
    "tick_size = 14\n",
    "\n",
    "ax = plt.subplot(321)\n",
    "sns.boxplot(x='arch', y='metric_val', data=trec_map_vs_archs_test, order=archs, ax=ax)\n",
    "plt.ylabel('TrecQA\\nMAP', fontsize=axis_size)\n",
    "plt.yticks(fontsize=tick_size)\n",
    "plt.ylim((0.65, 0.85))\n",
    "plt.xlabel('', fontsize=axis_size)\n",
    "plt.xticks(fontsize=tick_size)\n",
    "ax.xaxis.set_ticklabels([trec_map_delta[a] for a in archs])\n",
    "ylim = ax.get_ylim()\n",
    "for i, a in enumerate(archs):\n",
    "    ax.text(0.2+i*1, ylim[0] + 0.2*(ylim[1] - ylim[0]), trec_map_intervals[a][0])\n",
    "    ax.text(0.2+i*1, ylim[0] + 0.9*(ylim[1] - ylim[0]), trec_map_intervals[a][1])\n",
    "\n",
    "ax = plt.subplot(322)\n",
    "sns.boxplot(x='arch', y='metric_val', data=trec_mrr_vs_archs_test, order=archs, ax=ax)\n",
    "plt.ylabel('MRR', fontsize=axis_size)\n",
    "plt.ylim((0.73, 0.9))\n",
    "plt.xlabel('', fontsize=axis_size)\n",
    "plt.xticks(fontsize=tick_size)\n",
    "plt.yticks(fontsize=tick_size)\n",
    "ax.xaxis.set_ticklabels([trec_mrr_delta[a] for a in archs])\n",
    "ylim = ax.get_ylim()\n",
    "for i, a in enumerate(archs):\n",
    "    ax.text(0.2+i*1, ylim[0] + 0.06*(ylim[1] - ylim[0]), trec_mrr_intervals[a][0])\n",
    "    ax.text(0.2+i*1, ylim[0] + 0.9*(ylim[1] - ylim[0]), trec_mrr_intervals[a][1])\n",
    "\n",
    "ax = plt.subplot(323)\n",
    "sns.boxplot(x='arch', y='metric_val', data=wikiqa_map_vs_archs_test, order=archs, ax=ax)\n",
    "plt.ylabel('WikiQA\\nMAP', fontsize=axis_size)\n",
    "plt.yticks(fontsize=tick_size)\n",
    "plt.ylim((0.5, 0.75))\n",
    "plt.xlabel('', fontsize=axis_size)\n",
    "plt.xticks(fontsize=tick_size)\n",
    "ax.xaxis.set_ticklabels([wikiqa_map_delta[a] for a in archs])\n",
    "ylim = ax.get_ylim()\n",
    "for i, a in enumerate(archs):\n",
    "    ax.text(0.2+i*1, ylim[0] + 0.1*(ylim[1] - ylim[0]), wikiqa_map_intervals[a][0])\n",
    "    ax.text(0.2+i*1, ylim[0] + 0.9*(ylim[1] - ylim[0]), wikiqa_map_intervals[a][1])\n",
    "\n",
    "ax = plt.subplot(324)\n",
    "sns.boxplot(x='arch', y='metric_val', data=wikiqa_mrr_vs_archs_test, order=archs, ax=ax)\n",
    "plt.ylabel('MRR', fontsize=axis_size)\n",
    "plt.yticks(fontsize=tick_size)\n",
    "plt.xlabel('', fontsize=axis_size)\n",
    "plt.ylim((0.5, 0.75))\n",
    "plt.xticks(fontsize=tick_size)\n",
    "ax.xaxis.set_ticklabels([wikiqa_mrr_delta[a] for a in archs])\n",
    "ylim = ax.get_ylim()\n",
    "for i, a in enumerate(archs):\n",
    "    ax.text(0.2+i*1, ylim[0] + 0.1*(ylim[1] - ylim[0]), wikiqa_mrr_intervals[a][0])\n",
    "    ax.text(0.2+i*1, ylim[0] + 0.9*(ylim[1] - ylim[0]), wikiqa_mrr_intervals[a][1])\n",
    "\n",
    "ax = plt.subplot(325)\n",
    "sns.boxplot(x='arch', y='metric_val', data=sick_pearson_vs_archs_test, order=archs, ax=ax)\n",
    "plt.ylabel(\"SICK\\nPearson's r\", fontsize=axis_size)\n",
    "plt.xlabel('Architecture', fontsize=axis_size)\n",
    "plt.xticks(fontsize=tick_size)\n",
    "plt.yticks(fontsize=tick_size)\n",
    "plt.ylim((0.8, 0.9))\n",
    "ax.xaxis.set_ticklabels([sick_pearson_delta[a] + '\\n' + a for a in archs])\n",
    "ylim = ax.get_ylim()\n",
    "for i, a in enumerate(archs):\n",
    "    ax.text(0.2+i*1, ylim[0] + 0.1*(ylim[1] - ylim[0]), sick_pearson_intervals[a][0])\n",
    "    ax.text(0.2+i*1, ylim[0] + 0.9*(ylim[1] - ylim[0]), sick_pearson_intervals[a][1])\n",
    "\n",
    "ax = plt.subplot(326)\n",
    "sns.boxplot(x='arch', y='metric_val', data=sick_spearman_vs_archs_test, order=archs, ax=ax)\n",
    "plt.ylabel(\"Spearman's p\", fontsize=axis_size)\n",
    "plt.xlabel('Architecture', fontsize=axis_size)\n",
    "plt.xticks(fontsize=tick_size)\n",
    "plt.yticks(fontsize=tick_size)\n",
    "plt.ylim((0.75, 0.85))\n",
    "ax.xaxis.set_ticklabels([sick_spearman_delta[a] + '\\n' + a for a in archs])\n",
    "ylim = ax.get_ylim()\n",
    "for i, a in enumerate(archs):\n",
    "    ax.text(0.2+i*1, ylim[0] + 0.2*(ylim[1] - ylim[0]), sick_spearman_intervals[a][0])\n",
    "    ax.text(0.2+i*1, ylim[0] + 0.9*(ylim[1] - ylim[0]), sick_spearman_intervals[a][1])\n",
    "plt.tight_layout()\n",
    "\n",
    "plt.savefig('lite_model_violin.pdf')"
   ]
  },
  {
   "cell_type": "code",
   "execution_count": null,
   "metadata": {},
   "outputs": [],
   "source": []
  }
 ],
 "metadata": {
  "kernelspec": {
   "display_name": "Python 3",
   "language": "python",
   "name": "python3"
  },
  "language_info": {
   "codemirror_mode": {
    "name": "ipython",
    "version": 3
   },
   "file_extension": ".py",
   "mimetype": "text/x-python",
   "name": "python",
   "nbconvert_exporter": "python",
   "pygments_lexer": "ipython3",
   "version": "3.6.4"
  }
 },
 "nbformat": 4,
 "nbformat_minor": 2
}
