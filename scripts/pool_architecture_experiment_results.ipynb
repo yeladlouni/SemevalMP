{
 "cells": [
  {
   "cell_type": "markdown",
   "metadata": {},
   "source": [
    "# Pool Architecture Experiment Results"
   ]
  },
  {
   "cell_type": "code",
   "execution_count": 1,
   "metadata": {},
   "outputs": [],
   "source": [
    "import json\n",
    "\n",
    "import numpy as np\n",
    "import pandas as pd\n",
    "import matplotlib.pyplot as plt\n",
    "import seaborn as sns\n",
    "import scipy.stats as st\n",
    "import statsmodels.stats.api as sms\n",
    "\n",
    "from db import conn"
   ]
  },
  {
   "cell_type": "code",
   "execution_count": 2,
   "metadata": {},
   "outputs": [],
   "source": [
    "%matplotlib inline"
   ]
  },
  {
   "cell_type": "code",
   "execution_count": 3,
   "metadata": {},
   "outputs": [],
   "source": [
    "sns.set_style(\"whitegrid\")"
   ]
  },
  {
   "cell_type": "code",
   "execution_count": 4,
   "metadata": {},
   "outputs": [],
   "source": [
    "cursor = conn.cursor()\n",
    "experiment_rows = [r for r in cursor.execute(\"\"\"\n",
    "    select g.name, args, dev_metric, test_metric from experiments e\n",
    "    join experiment_groups g on e.group_id=g.gid\n",
    "    where g.name=?\"\"\", ('mpcnn-v2-pool-fix-params-and-seed',))]"
   ]
  },
  {
   "cell_type": "code",
   "execution_count": 5,
   "metadata": {},
   "outputs": [
    {
     "data": {
      "text/plain": [
       "120"
      ]
     },
     "execution_count": 5,
     "metadata": {},
     "output_type": "execute_result"
    }
   ],
   "source": [
    "len(experiment_rows)"
   ]
  },
  {
   "cell_type": "code",
   "execution_count": 6,
   "metadata": {},
   "outputs": [],
   "source": [
    "experiment_results = {\n",
    "    'trecqa': [],\n",
    "    'wikiqa': [],\n",
    "    'sick': []\n",
    "}\n",
    "\n",
    "for row in experiment_rows:\n",
    "    args = json.loads(row[1])\n",
    "    dev_metrics = json.loads(row[2])\n",
    "    test_metrics = json.loads(row[3])\n",
    "    dataset = args['dataset']\n",
    "    \n",
    "    if args['arch'] == 'mpcnn_pool_max_only':\n",
    "        arch = 'Max'\n",
    "    elif args['arch'] == 'mpcnn_pool_no_mean_sym':\n",
    "        arch = 'Max, Min'\n",
    "    elif args['arch'] == 'mpcnn_pool_mean_sym':\n",
    "        arch = 'All'\n",
    "    else:\n",
    "        arch = 'MP-CNN'\n",
    "    \n",
    "    res_base = {\n",
    "        'arch': arch,\n",
    "        'dataset': dataset,\n",
    "        'seed': args['seed']\n",
    "    }\n",
    "    \n",
    "    results = []\n",
    "    \n",
    "    if dataset in ('trecqa', 'wikiqa'):\n",
    "        results.append({**res_base, **{'split': 'dev', 'metric_name': 'MAP', 'metric_val': dev_metrics['map']}})\n",
    "        results.append({**res_base, **{'split': 'dev', 'metric_name': 'MRR', 'metric_val': dev_metrics['mrr']}})\n",
    "        results.append({**res_base, **{'split': 'test', 'metric_name': 'MAP', 'metric_val': test_metrics['map']}})\n",
    "        results.append({**res_base, **{'split': 'test', 'metric_name': 'MRR', 'metric_val': test_metrics['mrr']}})\n",
    "    elif dataset == 'sick':\n",
    "        results.append({**res_base, **{'split': 'dev', 'metric_name': 'pearson', 'metric_val': dev_metrics['pearson']}})\n",
    "        results.append({**res_base, **{'split': 'dev', 'metric_name': 'spearman', 'metric_val': dev_metrics['spearman']}})\n",
    "        results.append({**res_base, **{'split': 'test', 'metric_name': 'pearson', 'metric_val': test_metrics['pearson']}})\n",
    "        results.append({**res_base, **{'split': 'test', 'metric_name': 'spearman', 'metric_val': test_metrics['spearman']}})\n",
    "    \n",
    "    experiment_results[dataset].extend(results)"
   ]
  },
  {
   "cell_type": "code",
   "execution_count": 7,
   "metadata": {},
   "outputs": [],
   "source": [
    "trecqa = pd.DataFrame(experiment_results['trecqa'])\n",
    "wikiqa = pd.DataFrame(experiment_results['wikiqa'])\n",
    "sick = pd.DataFrame(experiment_results['sick'])"
   ]
  },
  {
   "cell_type": "code",
   "execution_count": 8,
   "metadata": {},
   "outputs": [
    {
     "data": {
      "text/html": [
       "<div>\n",
       "<table border=\"1\" class=\"dataframe\">\n",
       "  <thead>\n",
       "    <tr style=\"text-align: right;\">\n",
       "      <th></th>\n",
       "      <th>arch</th>\n",
       "      <th>dataset</th>\n",
       "      <th>metric_name</th>\n",
       "      <th>metric_val</th>\n",
       "      <th>seed</th>\n",
       "      <th>split</th>\n",
       "    </tr>\n",
       "  </thead>\n",
       "  <tbody>\n",
       "    <tr>\n",
       "      <th>0</th>\n",
       "      <td>MP-CNN</td>\n",
       "      <td>trecqa</td>\n",
       "      <td>MAP</td>\n",
       "      <td>0.7972</td>\n",
       "      <td>269504</td>\n",
       "      <td>dev</td>\n",
       "    </tr>\n",
       "    <tr>\n",
       "      <th>1</th>\n",
       "      <td>MP-CNN</td>\n",
       "      <td>trecqa</td>\n",
       "      <td>MRR</td>\n",
       "      <td>0.8658</td>\n",
       "      <td>269504</td>\n",
       "      <td>dev</td>\n",
       "    </tr>\n",
       "    <tr>\n",
       "      <th>2</th>\n",
       "      <td>MP-CNN</td>\n",
       "      <td>trecqa</td>\n",
       "      <td>MAP</td>\n",
       "      <td>0.7555</td>\n",
       "      <td>269504</td>\n",
       "      <td>test</td>\n",
       "    </tr>\n",
       "    <tr>\n",
       "      <th>3</th>\n",
       "      <td>MP-CNN</td>\n",
       "      <td>trecqa</td>\n",
       "      <td>MRR</td>\n",
       "      <td>0.8161</td>\n",
       "      <td>269504</td>\n",
       "      <td>test</td>\n",
       "    </tr>\n",
       "    <tr>\n",
       "      <th>4</th>\n",
       "      <td>Max</td>\n",
       "      <td>trecqa</td>\n",
       "      <td>MAP</td>\n",
       "      <td>0.8086</td>\n",
       "      <td>269504</td>\n",
       "      <td>dev</td>\n",
       "    </tr>\n",
       "    <tr>\n",
       "      <th>5</th>\n",
       "      <td>Max</td>\n",
       "      <td>trecqa</td>\n",
       "      <td>MRR</td>\n",
       "      <td>0.8966</td>\n",
       "      <td>269504</td>\n",
       "      <td>dev</td>\n",
       "    </tr>\n",
       "    <tr>\n",
       "      <th>6</th>\n",
       "      <td>Max</td>\n",
       "      <td>trecqa</td>\n",
       "      <td>MAP</td>\n",
       "      <td>0.7835</td>\n",
       "      <td>269504</td>\n",
       "      <td>test</td>\n",
       "    </tr>\n",
       "    <tr>\n",
       "      <th>7</th>\n",
       "      <td>Max</td>\n",
       "      <td>trecqa</td>\n",
       "      <td>MRR</td>\n",
       "      <td>0.8443</td>\n",
       "      <td>269504</td>\n",
       "      <td>test</td>\n",
       "    </tr>\n",
       "  </tbody>\n",
       "</table>\n",
       "</div>"
      ],
      "text/plain": [
       "     arch dataset metric_name  metric_val    seed split\n",
       "0  MP-CNN  trecqa         MAP      0.7972  269504   dev\n",
       "1  MP-CNN  trecqa         MRR      0.8658  269504   dev\n",
       "2  MP-CNN  trecqa         MAP      0.7555  269504  test\n",
       "3  MP-CNN  trecqa         MRR      0.8161  269504  test\n",
       "4     Max  trecqa         MAP      0.8086  269504   dev\n",
       "5     Max  trecqa         MRR      0.8966  269504   dev\n",
       "6     Max  trecqa         MAP      0.7835  269504  test\n",
       "7     Max  trecqa         MRR      0.8443  269504  test"
      ]
     },
     "execution_count": 8,
     "metadata": {},
     "output_type": "execute_result"
    }
   ],
   "source": [
    "trecqa.head(8)"
   ]
  },
  {
   "cell_type": "code",
   "execution_count": 9,
   "metadata": {},
   "outputs": [],
   "source": [
    "archs = ['Max', 'Max, Min', 'All']\n",
    "def compare_change_to_baseline(df, metric):\n",
    "    changes = {'MP-CNN': 'baseline'}\n",
    "    config_ids = df['seed'].unique()\n",
    "    for arch in archs:\n",
    "        diffs = []\n",
    "        for config_id in config_ids:\n",
    "            baseline = df[(df['seed'] == config_id) & (df['arch'] == 'MP-CNN')].iloc[0]['metric_val']\n",
    "            conf_perf = df[(df['seed'] == config_id) & (df['arch'] == arch)].iloc[0]['metric_val']\n",
    "            diffs.append(conf_perf - baseline)\n",
    "\n",
    "        print(f'Architecture: {arch} pooling')\n",
    "        print(f'Median of {metric} change compared with max pooling baseline: {np.median(diffs):.4f}')\n",
    "        print(f'Mean of {metric} change compared with max pooling baseline: {np.mean(diffs):.4f}')\n",
    "        diff = np.median(diffs)\n",
    "        changes[arch] = f'+{diff:.4f}' if diff > 0 else f'{diff:.4f}'\n",
    "    \n",
    "    return changes"
   ]
  },
  {
   "cell_type": "markdown",
   "metadata": {},
   "source": [
    "## TrecQA"
   ]
  },
  {
   "cell_type": "code",
   "execution_count": 10,
   "metadata": {},
   "outputs": [],
   "source": [
    "trec_map_vs_archs_test = trecqa[(trecqa['metric_name'] == 'MAP') & (trecqa['split'] == 'test')]\n",
    "trec_mrr_vs_archs_test = trecqa[(trecqa['metric_name'] == 'MRR') & (trecqa['split'] == 'test')]\n",
    "trec_map_vs_archs_dev = trecqa[(trecqa['metric_name'] == 'MAP') & (trecqa['split'] == 'dev')]\n",
    "trec_mrr_vs_archs_dev = trecqa[(trecqa['metric_name'] == 'MRR') & (trecqa['split'] == 'dev')]"
   ]
  },
  {
   "cell_type": "code",
   "execution_count": 11,
   "metadata": {},
   "outputs": [
    {
     "name": "stdout",
     "output_type": "stream",
     "text": [
      "MP-CNN: (0.7324, 0.7985)\n",
      "Max: (0.7702, 0.7841)\n",
      "All: (0.7622, 0.7885)\n",
      "Max, Min: (0.7100, 0.8057)\n"
     ]
    }
   ],
   "source": [
    "trec_map_intervals = {}\n",
    "for arch in trec_map_vs_archs_test['arch'].unique():\n",
    "    arr = trec_map_vs_archs_test[trec_map_vs_archs_test['arch'] == arch]['metric_val']\n",
    "    ci = sms.DescrStatsW(arr).tconfint_mean()\n",
    "    print(f'{arch}: ({ci[0]:.4f}, {ci[1]:.4f})')\n",
    "    trec_map_intervals[arch] = (f'{ci[0]:.4f}', f'{ci[1]:.4f}')"
   ]
  },
  {
   "cell_type": "code",
   "execution_count": 12,
   "metadata": {},
   "outputs": [
    {
     "name": "stdout",
     "output_type": "stream",
     "text": [
      "MP-CNN: (0.7794, 0.8433)\n",
      "Max: (0.8380, 0.8544)\n",
      "All: (0.8136, 0.8339)\n",
      "Max, Min: (0.7815, 0.8628)\n"
     ]
    }
   ],
   "source": [
    "trec_mrr_intervals = {}\n",
    "for arch in trec_mrr_vs_archs_test['arch'].unique():\n",
    "    arr = trec_mrr_vs_archs_test[trec_mrr_vs_archs_test['arch'] == arch]['metric_val']\n",
    "    ci = sms.DescrStatsW(arr).tconfint_mean()\n",
    "    print(f'{arch}: ({ci[0]:.4f}, {ci[1]:.4f})')\n",
    "    trec_mrr_intervals[arch] = (f'{ci[0]:.4f}', f'{ci[1]:.4f}')"
   ]
  },
  {
   "cell_type": "code",
   "execution_count": 13,
   "metadata": {},
   "outputs": [
    {
     "name": "stdout",
     "output_type": "stream",
     "text": [
      "Architecture: Max pooling\n",
      "Median of MAP change compared with max pooling baseline: 0.0062\n",
      "Mean of MAP change compared with max pooling baseline: 0.0117\n",
      "Architecture: Max, Min pooling\n",
      "Median of MAP change compared with max pooling baseline: 0.0165\n",
      "Mean of MAP change compared with max pooling baseline: -0.0076\n",
      "Architecture: All pooling\n",
      "Median of MAP change compared with max pooling baseline: 0.0028\n",
      "Mean of MAP change compared with max pooling baseline: 0.0099\n"
     ]
    }
   ],
   "source": [
    "trec_map_delta = compare_change_to_baseline(trec_map_vs_archs_test, 'MAP')"
   ]
  },
  {
   "cell_type": "code",
   "execution_count": 14,
   "metadata": {},
   "outputs": [
    {
     "name": "stdout",
     "output_type": "stream",
     "text": [
      "Architecture: Max pooling\n",
      "Median of MRR change compared with max pooling baseline: 0.0232\n",
      "Mean of MRR change compared with max pooling baseline: 0.0348\n",
      "Architecture: Max, Min pooling\n",
      "Median of MRR change compared with max pooling baseline: 0.0248\n",
      "Mean of MRR change compared with max pooling baseline: 0.0108\n",
      "Architecture: All pooling\n",
      "Median of MRR change compared with max pooling baseline: 0.0000\n",
      "Mean of MRR change compared with max pooling baseline: 0.0124\n"
     ]
    }
   ],
   "source": [
    "trec_mrr_delta = compare_change_to_baseline(trec_mrr_vs_archs_test, 'MRR')"
   ]
  },
  {
   "cell_type": "markdown",
   "metadata": {},
   "source": [
    "## WikiQA"
   ]
  },
  {
   "cell_type": "code",
   "execution_count": 15,
   "metadata": {},
   "outputs": [],
   "source": [
    "wikiqa_map_vs_archs_test = wikiqa[(wikiqa['metric_name'] == 'MAP') & (wikiqa['split'] == 'test')]\n",
    "wikiqa_mrr_vs_archs_test = wikiqa[(wikiqa['metric_name'] == 'MRR') & (wikiqa['split'] == 'test')]\n",
    "wikiqa_map_vs_archs_dev = wikiqa[(wikiqa['metric_name'] == 'MAP') & (wikiqa['split'] == 'dev')]\n",
    "wikiqa_mrr_vs_archs_dev = wikiqa[(wikiqa['metric_name'] == 'MRR') & (wikiqa['split'] == 'dev')]"
   ]
  },
  {
   "cell_type": "code",
   "execution_count": 16,
   "metadata": {},
   "outputs": [
    {
     "name": "stdout",
     "output_type": "stream",
     "text": [
      "MP-CNN: (0.6440, 0.7223)\n",
      "Max: (0.6855, 0.6947)\n",
      "All: (0.6199, 0.7173)\n",
      "Max, Min: (0.6445, 0.7043)\n"
     ]
    }
   ],
   "source": [
    "wikiqa_map_intervals = {}\n",
    "for arch in wikiqa_map_vs_archs_test['arch'].unique():\n",
    "    arr = wikiqa_map_vs_archs_test[wikiqa_map_vs_archs_test['arch'] == arch]['metric_val']\n",
    "    ci = sms.DescrStatsW(arr).tconfint_mean()\n",
    "    print(f'{arch}: ({ci[0]:.4f}, {ci[1]:.4f})')\n",
    "    wikiqa_map_intervals[arch] = (f'{ci[0]:.4f}', f'{ci[1]:.4f}')"
   ]
  },
  {
   "cell_type": "code",
   "execution_count": 17,
   "metadata": {},
   "outputs": [
    {
     "name": "stdout",
     "output_type": "stream",
     "text": [
      "MP-CNN: (0.6546, 0.7359)\n",
      "Max: (0.6992, 0.7096)\n",
      "All: (0.6264, 0.7306)\n",
      "Max, Min: (0.6513, 0.7194)\n"
     ]
    }
   ],
   "source": [
    "wikiqa_mrr_intervals = {}\n",
    "for arch in wikiqa_mrr_vs_archs_test['arch'].unique():\n",
    "    arr = wikiqa_mrr_vs_archs_test[wikiqa_mrr_vs_archs_test['arch'] == arch]['metric_val']\n",
    "    ci = sms.DescrStatsW(arr).tconfint_mean()\n",
    "    print(f'{arch}: ({ci[0]:.4f}, {ci[1]:.4f})')\n",
    "    wikiqa_mrr_intervals[arch] = (f'{ci[0]:.4f}', f'{ci[1]:.4f}')"
   ]
  },
  {
   "cell_type": "code",
   "execution_count": 18,
   "metadata": {},
   "outputs": [
    {
     "name": "stdout",
     "output_type": "stream",
     "text": [
      "Architecture: Max pooling\n",
      "Median of MAP change compared with max pooling baseline: -0.0167\n",
      "Mean of MAP change compared with max pooling baseline: 0.0069\n",
      "Architecture: Max, Min pooling\n",
      "Median of MAP change compared with max pooling baseline: -0.0181\n",
      "Mean of MAP change compared with max pooling baseline: -0.0087\n",
      "Architecture: All pooling\n",
      "Median of MAP change compared with max pooling baseline: -0.0101\n",
      "Mean of MAP change compared with max pooling baseline: -0.0145\n"
     ]
    }
   ],
   "source": [
    "wikiqa_map_delta = compare_change_to_baseline(wikiqa_map_vs_archs_test, 'MAP')"
   ]
  },
  {
   "cell_type": "code",
   "execution_count": 19,
   "metadata": {},
   "outputs": [
    {
     "name": "stdout",
     "output_type": "stream",
     "text": [
      "Architecture: Max pooling\n",
      "Median of MRR change compared with max pooling baseline: -0.0167\n",
      "Mean of MRR change compared with max pooling baseline: 0.0092\n",
      "Architecture: Max, Min pooling\n",
      "Median of MRR change compared with max pooling baseline: -0.0148\n",
      "Mean of MRR change compared with max pooling baseline: -0.0099\n",
      "Architecture: All pooling\n",
      "Median of MRR change compared with max pooling baseline: -0.0086\n",
      "Mean of MRR change compared with max pooling baseline: -0.0167\n"
     ]
    }
   ],
   "source": [
    "wikiqa_mrr_delta = compare_change_to_baseline(wikiqa_mrr_vs_archs_test, 'MRR')"
   ]
  },
  {
   "cell_type": "markdown",
   "metadata": {},
   "source": [
    "## SICK"
   ]
  },
  {
   "cell_type": "code",
   "execution_count": 20,
   "metadata": {},
   "outputs": [],
   "source": [
    "sick_pearson_vs_archs_test = sick[(sick['metric_name'] == 'pearson') & (sick['split'] == 'test')]\n",
    "sick_spearman_vs_archs_test = sick[(sick['metric_name'] == 'spearman') & (sick['split'] == 'test')]\n",
    "sick_pearson_vs_archs_dev = sick[(sick['metric_name'] == 'pearson') & (sick['split'] == 'dev')]\n",
    "sick_spearman_vs_archs_dev = sick[(sick['metric_name'] == 'spearman') & (sick['split'] == 'dev')]"
   ]
  },
  {
   "cell_type": "code",
   "execution_count": 21,
   "metadata": {},
   "outputs": [
    {
     "name": "stdout",
     "output_type": "stream",
     "text": [
      "MP-CNN: (0.8049, 0.8899)\n",
      "Max: (0.8640, 0.8720)\n",
      "All: (0.8465, 0.8726)\n",
      "Max, Min: (0.8646, 0.8704)\n"
     ]
    }
   ],
   "source": [
    "sick_pearson_intervals = {}\n",
    "for arch in sick_pearson_vs_archs_test['arch'].unique():\n",
    "    arr = sick_pearson_vs_archs_test[sick_pearson_vs_archs_test['arch'] == arch]['metric_val']\n",
    "    ci = sms.DescrStatsW(arr).tconfint_mean()\n",
    "    print(f'{arch}: ({ci[0]:.4f}, {ci[1]:.4f})')\n",
    "    sick_pearson_intervals[arch] = (f'{ci[0]:.4f}', f'{ci[1]:.4f}')"
   ]
  },
  {
   "cell_type": "code",
   "execution_count": 22,
   "metadata": {},
   "outputs": [
    {
     "name": "stdout",
     "output_type": "stream",
     "text": [
      "MP-CNN: (0.7599, 0.8251)\n",
      "Max: (0.7995, 0.8100)\n",
      "All: (0.8034, 0.8116)\n",
      "Max, Min: (0.8003, 0.8120)\n"
     ]
    }
   ],
   "source": [
    "sick_spearman_intervals = {}\n",
    "for arch in sick_spearman_vs_archs_test['arch'].unique():\n",
    "    arr = sick_spearman_vs_archs_test[sick_spearman_vs_archs_test['arch'] == arch]['metric_val']\n",
    "    ci = sms.DescrStatsW(arr).tconfint_mean()\n",
    "    print(f'{arch}: ({ci[0]:.4f}, {ci[1]:.4f})')\n",
    "    sick_spearman_intervals[arch] = (f'{ci[0]:.4f}', f'{ci[1]:.4f}')"
   ]
  },
  {
   "cell_type": "code",
   "execution_count": 23,
   "metadata": {},
   "outputs": [
    {
     "name": "stdout",
     "output_type": "stream",
     "text": [
      "Architecture: Max pooling\n",
      "Median of pearson change compared with max pooling baseline: -0.0010\n",
      "Mean of pearson change compared with max pooling baseline: 0.0206\n",
      "Architecture: Max, Min pooling\n",
      "Median of pearson change compared with max pooling baseline: 0.0019\n",
      "Mean of pearson change compared with max pooling baseline: 0.0201\n",
      "Architecture: All pooling\n",
      "Median of pearson change compared with max pooling baseline: 0.0004\n",
      "Mean of pearson change compared with max pooling baseline: 0.0122\n"
     ]
    }
   ],
   "source": [
    "sick_pearson_delta = compare_change_to_baseline(sick_pearson_vs_archs_test, 'pearson')"
   ]
  },
  {
   "cell_type": "code",
   "execution_count": 24,
   "metadata": {},
   "outputs": [
    {
     "name": "stdout",
     "output_type": "stream",
     "text": [
      "Architecture: Max pooling\n",
      "Median of spearman change compared with max pooling baseline: -0.0027\n",
      "Mean of spearman change compared with max pooling baseline: 0.0123\n",
      "Architecture: Max, Min pooling\n",
      "Median of spearman change compared with max pooling baseline: -0.0006\n",
      "Mean of spearman change compared with max pooling baseline: 0.0137\n",
      "Architecture: All pooling\n",
      "Median of spearman change compared with max pooling baseline: 0.0012\n",
      "Mean of spearman change compared with max pooling baseline: 0.0150\n"
     ]
    }
   ],
   "source": [
    "sick_spearman_delta = compare_change_to_baseline(sick_spearman_vs_archs_test, 'spearman')"
   ]
  },
  {
   "cell_type": "code",
   "execution_count": 32,
   "metadata": {},
   "outputs": [
    {
     "data": {
      "image/png": "[encoded data removed]",
      "text/plain": [
       "<matplotlib.figure.Figure at 0x7fdffe41a8d0>"
      ]
     },
     "metadata": {},
     "output_type": "display_data"
    }
   ],
   "source": [
    "fig, ax = plt.subplots()\n",
    "fig.set_size_inches(11.7, 6)\n",
    "title_size = 18\n",
    "axis_size = 16\n",
    "tick_size = 14\n",
    "\n",
    "archs = ['MP-CNN', 'Max', 'Max, Min', 'All']\n",
    "ax = plt.subplot(321)\n",
    "sns.boxplot(x='arch', y='metric_val', data=trec_map_vs_archs_test, order=archs, ax=ax)\n",
    "plt.ylabel('TrecQA\\nMAP', fontsize=axis_size)\n",
    "plt.yticks(fontsize=tick_size)\n",
    "plt.ylim((0.72, 0.83))\n",
    "plt.xlabel('', fontsize=axis_size)\n",
    "plt.xticks(fontsize=tick_size)\n",
    "ax.xaxis.set_ticklabels([trec_map_delta[a] for a in archs])\n",
    "ylim = ax.get_ylim()\n",
    "for i, a in enumerate(archs):\n",
    "    ax.text(0.2+i*1, ylim[0] + 0.1*(ylim[1] - ylim[0]), trec_map_intervals[a][0])\n",
    "    ax.text(0.2+i*1, ylim[0] + 0.9*(ylim[1] - ylim[0]), trec_map_intervals[a][1])\n",
    "\n",
    "ax = plt.subplot(322)\n",
    "sns.boxplot(x='arch', y='metric_val', data=trec_mrr_vs_archs_test, order=archs, ax=ax)\n",
    "plt.ylabel('MRR', fontsize=axis_size)\n",
    "plt.xlabel('', fontsize=axis_size)\n",
    "plt.xticks(fontsize=tick_size)\n",
    "plt.yticks(fontsize=tick_size)\n",
    "plt.ylim((0.77, 0.9))\n",
    "ax.xaxis.set_ticklabels([trec_mrr_delta[a] for a in archs])\n",
    "ylim = ax.get_ylim()\n",
    "for i, a in enumerate(archs):\n",
    "    ax.text(0.2+i*1, ylim[0] + 0.1*(ylim[1] - ylim[0]), trec_mrr_intervals[a][0])\n",
    "    ax.text(0.2+i*1, ylim[0] + 0.9*(ylim[1] - ylim[0]), trec_mrr_intervals[a][1])\n",
    "\n",
    "ax = plt.subplot(323)\n",
    "sns.boxplot(x='arch', y='metric_val', data=wikiqa_map_vs_archs_test, order=archs, ax=ax)\n",
    "plt.ylabel('WikiQA\\nMAP', fontsize=axis_size)\n",
    "plt.yticks(fontsize=tick_size)\n",
    "plt.ylim((0.5, 0.78))\n",
    "plt.xlabel('', fontsize=axis_size)\n",
    "plt.xticks(fontsize=tick_size)\n",
    "ax.xaxis.set_ticklabels([wikiqa_map_delta[a] for a in archs])\n",
    "ylim = ax.get_ylim()\n",
    "for i, a in enumerate(archs):\n",
    "    ax.text(0.2+i*1, ylim[0] + 0.1*(ylim[1] - ylim[0]), wikiqa_map_intervals[a][0])\n",
    "    ax.text(0.2+i*1, ylim[0] + 0.9*(ylim[1] - ylim[0]), wikiqa_map_intervals[a][1])\n",
    "\n",
    "ax = plt.subplot(324)\n",
    "sns.boxplot(x='arch', y='metric_val', data=wikiqa_mrr_vs_archs_test, order=archs, ax=ax)\n",
    "plt.ylabel('MRR', fontsize=axis_size)\n",
    "plt.yticks(fontsize=tick_size)\n",
    "plt.ylim((0.5, 0.78))\n",
    "plt.xlabel('', fontsize=axis_size)\n",
    "plt.xticks(fontsize=tick_size)\n",
    "ax.xaxis.set_ticklabels([wikiqa_mrr_delta[a] for a in archs])\n",
    "ylim = ax.get_ylim()\n",
    "for i, a in enumerate(archs):\n",
    "    ax.text(0.2+i*1, ylim[0] + 0.1*(ylim[1] - ylim[0]), wikiqa_mrr_intervals[a][0])\n",
    "    ax.text(0.2+i*1, ylim[0] + 0.9*(ylim[1] - ylim[0]), wikiqa_mrr_intervals[a][1])\n",
    "\n",
    "ax = plt.subplot(325)\n",
    "sns.boxplot(x='arch', y='metric_val', data=sick_pearson_vs_archs_test, order=archs, ax=ax)\n",
    "plt.ylabel(\"SICK\\nPearson's r\", fontsize=axis_size)\n",
    "plt.xlabel('Architecture', fontsize=axis_size)\n",
    "plt.xticks(fontsize=tick_size)\n",
    "plt.yticks(fontsize=tick_size)\n",
    "plt.ylim((0.82, 0.9))\n",
    "ax.xaxis.set_ticklabels([sick_pearson_delta[a] + '\\n' + a for a in archs])\n",
    "ylim = ax.get_ylim()\n",
    "for i, a in enumerate(archs):\n",
    "    ax.text(0.2+i*1, ylim[0] + 0.1*(ylim[1] - ylim[0]), sick_pearson_intervals[a][0])\n",
    "    ax.text(0.2+i*1, ylim[0] + 0.9*(ylim[1] - ylim[0]), sick_pearson_intervals[a][1])\n",
    "\n",
    "ax = plt.subplot(326)\n",
    "sns.boxplot(x='arch', y='metric_val', data=sick_spearman_vs_archs_test, order=archs, ax=ax)\n",
    "plt.ylabel(\"Spearman's p\", fontsize=axis_size)\n",
    "plt.xlabel('Architecture', fontsize=axis_size)\n",
    "plt.xticks(fontsize=tick_size)\n",
    "plt.yticks(fontsize=tick_size)\n",
    "plt.ylim((0.75, 0.85))\n",
    "ax.xaxis.set_ticklabels([sick_spearman_delta[a] + '\\n' + a for a in archs])\n",
    "ylim = ax.get_ylim()\n",
    "for i, a in enumerate(archs):\n",
    "    ax.text(0.2+i*1, ylim[0] + 0.1*(ylim[1] - ylim[0]), sick_spearman_intervals[a][0])\n",
    "    ax.text(0.2+i*1, ylim[0] + 0.9*(ylim[1] - ylim[0]), sick_spearman_intervals[a][1])\n",
    "plt.tight_layout()\n",
    "# plt.subplots_adjust(top=0.8, hspace=0.2)\n",
    "plt.savefig('pool_arch_violin.pdf')"
   ]
  },
  {
   "cell_type": "code",
   "execution_count": null,
   "metadata": {},
   "outputs": [],
   "source": []
  },
  {
   "cell_type": "code",
   "execution_count": null,
   "metadata": {},
   "outputs": [],
   "source": []
  }
 ],
 "metadata": {
  "kernelspec": {
   "display_name": "Python 3",
   "language": "python",
   "name": "python3"
  },
  "language_info": {
   "codemirror_mode": {
    "name": "ipython",
    "version": 3
   },
   "file_extension": ".py",
   "mimetype": "text/x-python",
   "name": "python",
   "nbconvert_exporter": "python",
   "pygments_lexer": "ipython3",
   "version": "3.6.4"
  }
 },
 "nbformat": 4,
 "nbformat_minor": 2
}
