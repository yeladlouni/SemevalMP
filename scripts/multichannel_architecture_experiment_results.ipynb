{
 "cells": [
  {
   "cell_type": "markdown",
   "metadata": {},
   "source": [
    "# Multichannel Architecture Experiment Results"
   ]
  },
  {
   "cell_type": "code",
   "execution_count": 1,
   "metadata": {},
   "outputs": [
    {
     "name": "stderr",
     "output_type": "stream",
     "text": [
      "/u3/z3tu/anaconda3/lib/python3.6/site-packages/statsmodels/compat/pandas.py:56: FutureWarning: The pandas.core.datetools module is deprecated and will be removed in a future version. Please use the pandas.tseries module instead.\n",
      "  from pandas.core import datetools\n"
     ]
    }
   ],
   "source": [
    "import json\n",
    "\n",
    "import numpy as np\n",
    "import pandas as pd\n",
    "import matplotlib.pyplot as plt\n",
    "import seaborn as sns\n",
    "import scipy.stats as st\n",
    "import statsmodels.stats.api as sms\n",
    "\n",
    "from db import conn"
   ]
  },
  {
   "cell_type": "code",
   "execution_count": 2,
   "metadata": {},
   "outputs": [],
   "source": [
    "%matplotlib inline"
   ]
  },
  {
   "cell_type": "code",
   "execution_count": 3,
   "metadata": {},
   "outputs": [],
   "source": [
    "sns.set_style(\"whitegrid\")"
   ]
  },
  {
   "cell_type": "code",
   "execution_count": 5,
   "metadata": {},
   "outputs": [],
   "source": [
    "cursor = conn.cursor()\n",
    "experiment_rows = [r for r in cursor.execute(\"\"\"\n",
    "    select g.name, args, dev_metric, test_metric from experiments e\n",
    "    join experiment_groups g on e.group_id=g.gid\n",
    "    where g.name=?\"\"\", ('conv2d',))]"
   ]
  },
  {
   "cell_type": "code",
   "execution_count": 7,
   "metadata": {},
   "outputs": [
    {
     "data": {
      "text/plain": [
       "[('conv2d',\n",
       "  '{\"program\": \"python\", \"main\": \"/u/z3tu/castorini/MP-CNN-Variants/main.py\", \"arg2\": \"/u/z3tu/castorini/MP-CNN-Variants/saved_models/arch_mpcnn_dataset_sick_seed_332119.castor\", \"arch\": \"mpcnn\", \"dataset\": \"sick\", \"epochs\": 19, \"device\": 2, \"lr\": 0.00016, \"regularization\": 0.0002044, \"dropout\": 0, \"eps\": 1e-08, \"seed\": 332119}',\n",
       "  '{\"pearson\": 0.861877, \"spearman\": 0.816262343959, \"kl_div\": 0.49034155654907224}',\n",
       "  '{\"pearson\": 0.863374, \"spearman\": 0.797333994568, \"kl_div\": 0.484521126442273}'),\n",
       " ('conv2d',\n",
       "  '{\"program\": \"python\", \"main\": \"/u/z3tu/castorini/MP-CNN-Variants/main.py\", \"arg2\": \"/u/z3tu/castorini/MP-CNN-Variants/saved_models/arch_mpcnn_dataset_wikiqa_seed_332119.castor\", \"arch\": \"mpcnn\", \"dataset\": \"wikiqa\", \"epochs\": 10, \"device\": 2, \"lr\": 0.00016, \"regularization\": 0.0002044, \"dropout\": 0, \"eps\": 1e-08, \"seed\": 332119}',\n",
       "  '{\"cross_entropy_loss\": 0.501270262962949, \"map\": 0.7422, \"mrr\": 0.7501}',\n",
       "  '{\"cross_entropy_loss\": 0.5321748811404586, \"map\": 0.6688, \"mrr\": 0.6802}'),\n",
       " ('conv2d',\n",
       "  '{\"program\": \"python\", \"main\": \"/u/z3tu/castorini/MP-CNN-Variants/main.py\", \"arg2\": \"/u/z3tu/castorini/MP-CNN-Variants/saved_models/arch_mpcnn_dataset_trecqa_seed_332119.castor\", \"arch\": \"mpcnn\", \"dataset\": \"trecqa\", \"epochs\": 5, \"device\": 1, \"lr\": 0.00016, \"regularization\": 0.0002044, \"dropout\": 0, \"eps\": 1e-08, \"seed\": 332119}',\n",
       "  '{\"cross_entropy_loss\": 0.9193235048018266, \"map\": 0.8239, \"mrr\": 0.8778}',\n",
       "  '{\"cross_entropy_loss\": 0.7995816375483159, \"map\": 0.8038, \"mrr\": 0.8384}'),\n",
       " ('conv2d',\n",
       "  '{\"program\": \"python\", \"main\": \"/u/z3tu/castorini/MP-CNN-Variants/main.py\", \"arg2\": \"/u/z3tu/castorini/MP-CNN-Variants/saved_models/arch_mpcnn_lite_multichannel_dataset_sick_seed_332119.castor\", \"arch\": \"mpcnn_lite_multichannel\", \"dataset\": \"sick\", \"epochs\": 19, \"device\": 2, \"lr\": 0.00016, \"regularization\": 0.0002044, \"dropout\": 0, \"eps\": 1e-08, \"seed\": 332119}',\n",
       "  '{\"pearson\": 0.863856, \"spearman\": 0.820980535116, \"kl_div\": 0.4816755256652832}',\n",
       "  '{\"pearson\": 0.858836, \"spearman\": 0.791689884678, \"kl_div\": 0.49215179653953584}'),\n",
       " ('conv2d',\n",
       "  '{\"program\": \"python\", \"main\": \"/u/z3tu/castorini/MP-CNN-Variants/main.py\", \"arg2\": \"/u/z3tu/castorini/MP-CNN-Variants/saved_models/arch_mpcnn_lite_multichannel_dataset_trecqa_seed_332119.castor\", \"arch\": \"mpcnn_lite_multichannel\", \"dataset\": \"trecqa\", \"epochs\": 5, \"device\": 1, \"lr\": 0.00016, \"regularization\": 0.0002044, \"dropout\": 0, \"eps\": 1e-08, \"seed\": 332119}',\n",
       "  '{\"cross_entropy_loss\": 0.8301519367337642, \"map\": 0.7703, \"mrr\": 0.8157}',\n",
       "  '{\"cross_entropy_loss\": 0.7729376952066261, \"map\": 0.7645, \"mrr\": 0.8108}'),\n",
       " ('conv2d',\n",
       "  '{\"program\": \"python\", \"main\": \"/u/z3tu/castorini/MP-CNN-Variants/main.py\", \"arg2\": \"/u/z3tu/castorini/MP-CNN-Variants/saved_models/arch_mpcnn_lite_multichannel_dataset_wikiqa_seed_332119.castor\", \"arch\": \"mpcnn_lite_multichannel\", \"dataset\": \"wikiqa\", \"epochs\": 10, \"device\": 2, \"lr\": 0.00016, \"regularization\": 0.0002044, \"dropout\": 0, \"eps\": 1e-08, \"seed\": 332119}',\n",
       "  '{\"cross_entropy_loss\": 0.40096109018916576, \"map\": 0.7422, \"mrr\": 0.7466}',\n",
       "  '{\"cross_entropy_loss\": 0.44166755797963403, \"map\": 0.6634, \"mrr\": 0.6749}'),\n",
       " ('conv2d',\n",
       "  '{\"program\": \"python\", \"main\": \"/u/z3tu/castorini/MP-CNN-Variants/main.py\", \"arg2\": \"/u/z3tu/castorini/MP-CNN-Variants/saved_models/arch_mpcnn_lite_multichannel_dataset_trecqa_seed_704135.castor\", \"arch\": \"mpcnn_lite_multichannel\", \"dataset\": \"trecqa\", \"epochs\": 5, \"device\": 1, \"lr\": 0.00038, \"regularization\": 0.0002538, \"dropout\": 0, \"eps\": 1e-08, \"seed\": 704135}',\n",
       "  '{\"cross_entropy_loss\": 0.778515134538923, \"map\": 0.7653, \"mrr\": 0.8169}',\n",
       "  '{\"cross_entropy_loss\": 0.688542219864827, \"map\": 0.7753, \"mrr\": 0.8275}'),\n",
       " ('conv2d',\n",
       "  '{\"program\": \"python\", \"main\": \"/u/z3tu/castorini/MP-CNN-Variants/main.py\", \"arg2\": \"/u/z3tu/castorini/MP-CNN-Variants/saved_models/arch_mpcnn_dataset_sick_seed_704135.castor\", \"arch\": \"mpcnn\", \"dataset\": \"sick\", \"epochs\": 19, \"device\": 2, \"lr\": 0.00038, \"regularization\": 0.0002538, \"dropout\": 0, \"eps\": 1e-08, \"seed\": 704135}',\n",
       "  '{\"pearson\": 0.869909, \"spearman\": 0.818958569839, \"kl_div\": 0.5035506935119629}',\n",
       "  '{\"pearson\": 0.869479, \"spearman\": 0.804092867718, \"kl_div\": 0.49815766303757514}')]"
      ]
     },
     "execution_count": 7,
     "metadata": {},
     "output_type": "execute_result"
    }
   ],
   "source": [
    "experiment_rows"
   ]
  },
  {
   "cell_type": "code",
   "execution_count": 123,
   "metadata": {},
   "outputs": [],
   "source": [
    "experiment_results = {\n",
    "    'trecqa': [],\n",
    "    'wikiqa': [],\n",
    "    'sick': []\n",
    "}\n",
    "\n",
    "for row in experiment_rows:\n",
    "    args = json.loads(row[1])\n",
    "    dev_metrics = json.loads(row[2])\n",
    "    test_metrics = json.loads(row[3])\n",
    "    dataset = args['dataset']\n",
    "    \n",
    "    if args['arch'] == 'mpcnn_no_per_dim_no_multi_pooling':\n",
    "        arch = 'MP-CNN Lite'\n",
    "    elif args['arch'] == 'smcnn_with_comp':\n",
    "        arch = 'SM-CNN with Comp'\n",
    "    else:\n",
    "        arch = 'MP-CNN'\n",
    "    \n",
    "    res_base = {\n",
    "        'arch': arch,\n",
    "        'dataset': dataset,\n",
    "        'seed': args['seed']\n",
    "    }\n",
    "    \n",
    "    results = []\n",
    "    \n",
    "    if dataset in ('trecqa', 'wikiqa'):\n",
    "        results.append({**res_base, **{'split': 'dev', 'metric_name': 'MAP', 'metric_val': dev_metrics['map']}})\n",
    "        results.append({**res_base, **{'split': 'dev', 'metric_name': 'MRR', 'metric_val': dev_metrics['mrr']}})\n",
    "        results.append({**res_base, **{'split': 'test', 'metric_name': 'MAP', 'metric_val': test_metrics['map']}})\n",
    "        results.append({**res_base, **{'split': 'test', 'metric_name': 'MRR', 'metric_val': test_metrics['mrr']}})\n",
    "    elif dataset == 'sick':\n",
    "        results.append({**res_base, **{'split': 'dev', 'metric_name': 'pearson', 'metric_val': dev_metrics['pearson']}})\n",
    "        results.append({**res_base, **{'split': 'dev', 'metric_name': 'spearman', 'metric_val': dev_metrics['spearman']}})\n",
    "        results.append({**res_base, **{'split': 'test', 'metric_name': 'pearson', 'metric_val': test_metrics['pearson']}})\n",
    "        results.append({**res_base, **{'split': 'test', 'metric_name': 'spearman', 'metric_val': test_metrics['spearman']}})\n",
    "    \n",
    "    experiment_results[dataset].extend(results)"
   ]
  },
  {
   "cell_type": "code",
   "execution_count": 124,
   "metadata": {},
   "outputs": [],
   "source": [
    "trecqa = pd.DataFrame(experiment_results['trecqa'])\n",
    "wikiqa = pd.DataFrame(experiment_results['wikiqa'])\n",
    "sick = pd.DataFrame(experiment_results['sick'])"
   ]
  },
  {
   "cell_type": "code",
   "execution_count": 125,
   "metadata": {},
   "outputs": [
    {
     "data": {
      "text/plain": [
       "array(['MP-CNN Lite', 'MP-CNN', 'SM-CNN with Comp'], dtype=object)"
      ]
     },
     "execution_count": 125,
     "metadata": {},
     "output_type": "execute_result"
    }
   ],
   "source": [
    "trecqa['arch'].unique()"
   ]
  },
  {
   "cell_type": "code",
   "execution_count": 204,
   "metadata": {},
   "outputs": [],
   "source": [
    "archs = ['MP-CNN', 'MP-CNN Lite', 'SM-CNN with Comp']\n",
    "def compare_change_to_baseline(df, metric):\n",
    "    config_ids = df['seed'].unique()\n",
    "    for arch in archs:\n",
    "        diffs = []\n",
    "        for config_id in config_ids:\n",
    "            baseline = df[(df['seed'] == config_id) & (df['arch'] == 'MP-CNN')].iloc[0]['metric_val']\n",
    "            conf_perf = df[(df['seed'] == config_id) & (df['arch'] == arch)].iloc[0]['metric_val']\n",
    "            diffs.append(conf_perf - baseline)\n",
    "\n",
    "        print(f'Architecture: {arch}')\n",
    "        print(f'Median of {metric} change compared with single baseline: {np.median(diffs):.4f}')\n",
    "        print(f'Mean of {metric} change compared with single baseline: {np.mean(diffs):.4f}')"
   ]
  },
  {
   "cell_type": "markdown",
   "metadata": {},
   "source": [
    "## TrecQA"
   ]
  },
  {
   "cell_type": "code",
   "execution_count": 205,
   "metadata": {},
   "outputs": [],
   "source": [
    "trec_map_vs_archs_test = trecqa[(trecqa['metric_name'] == 'MAP') & (trecqa['split'] == 'test')]\n",
    "trec_mrr_vs_archs_test = trecqa[(trecqa['metric_name'] == 'MRR') & (trecqa['split'] == 'test')]\n",
    "trec_map_vs_archs_dev = trecqa[(trecqa['metric_name'] == 'MAP') & (trecqa['split'] == 'dev')]\n",
    "trec_mrr_vs_archs_dev = trecqa[(trecqa['metric_name'] == 'MRR') & (trecqa['split'] == 'dev')]"
   ]
  },
  {
   "cell_type": "code",
   "execution_count": 206,
   "metadata": {},
   "outputs": [
    {
     "name": "stdout",
     "output_type": "stream",
     "text": [
      "MP-CNN Lite: (0.7581, 0.7749)\n",
      "MP-CNN: (0.6363, 0.7889)\n",
      "SM-CNN with Comp: (0.6821, 0.7011)\n"
     ]
    }
   ],
   "source": [
    "for arch in trec_map_vs_archs_test['arch'].unique():\n",
    "    arr = trec_map_vs_archs_test[trec_map_vs_archs_test['arch'] == arch]['metric_val']\n",
    "    ci = sms.DescrStatsW(arr).tconfint_mean()\n",
    "    print(f'{arch}: ({ci[0]:.4f}, {ci[1]:.4f})')"
   ]
  },
  {
   "cell_type": "code",
   "execution_count": 207,
   "metadata": {},
   "outputs": [
    {
     "name": "stdout",
     "output_type": "stream",
     "text": [
      "MP-CNN Lite: (0.8031, 0.8243)\n",
      "MP-CNN: (0.6838, 0.8355)\n",
      "SM-CNN with Comp: (0.7458, 0.7767)\n"
     ]
    }
   ],
   "source": [
    "for arch in trec_mrr_vs_archs_test['arch'].unique():\n",
    "    arr = trec_mrr_vs_archs_test[trec_mrr_vs_archs_test['arch'] == arch]['metric_val']\n",
    "    ci = sms.DescrStatsW(arr).tconfint_mean()\n",
    "    print(f'{arch}: ({ci[0]:.4f}, {ci[1]:.4f})')"
   ]
  },
  {
   "cell_type": "code",
   "execution_count": 208,
   "metadata": {},
   "outputs": [
    {
     "data": {
      "text/html": [
       "<div>\n",
       "<style>\n",
       "    .dataframe thead tr:only-child th {\n",
       "        text-align: right;\n",
       "    }\n",
       "\n",
       "    .dataframe thead th {\n",
       "        text-align: left;\n",
       "    }\n",
       "\n",
       "    .dataframe tbody tr th {\n",
       "        vertical-align: top;\n",
       "    }\n",
       "</style>\n",
       "<table border=\"1\" class=\"dataframe\">\n",
       "  <thead>\n",
       "    <tr style=\"text-align: right;\">\n",
       "      <th></th>\n",
       "      <th>metric_val</th>\n",
       "      <th>seed</th>\n",
       "    </tr>\n",
       "    <tr>\n",
       "      <th>arch</th>\n",
       "      <th></th>\n",
       "      <th></th>\n",
       "    </tr>\n",
       "  </thead>\n",
       "  <tbody>\n",
       "    <tr>\n",
       "      <th>MP-CNN</th>\n",
       "      <td>0.71258</td>\n",
       "      <td>548872.6</td>\n",
       "    </tr>\n",
       "    <tr>\n",
       "      <th>MP-CNN Lite</th>\n",
       "      <td>0.76651</td>\n",
       "      <td>548872.6</td>\n",
       "    </tr>\n",
       "    <tr>\n",
       "      <th>SM-CNN with Comp</th>\n",
       "      <td>0.69161</td>\n",
       "      <td>548872.6</td>\n",
       "    </tr>\n",
       "  </tbody>\n",
       "</table>\n",
       "</div>"
      ],
      "text/plain": [
       "                  metric_val      seed\n",
       "arch                                  \n",
       "MP-CNN               0.71258  548872.6\n",
       "MP-CNN Lite          0.76651  548872.6\n",
       "SM-CNN with Comp     0.69161  548872.6"
      ]
     },
     "execution_count": 208,
     "metadata": {},
     "output_type": "execute_result"
    }
   ],
   "source": [
    "trec_map_vs_archs_test.groupby('arch').mean()"
   ]
  },
  {
   "cell_type": "code",
   "execution_count": 209,
   "metadata": {},
   "outputs": [
    {
     "data": {
      "text/html": [
       "<div>\n",
       "<style>\n",
       "    .dataframe thead tr:only-child th {\n",
       "        text-align: right;\n",
       "    }\n",
       "\n",
       "    .dataframe thead th {\n",
       "        text-align: left;\n",
       "    }\n",
       "\n",
       "    .dataframe tbody tr th {\n",
       "        vertical-align: top;\n",
       "    }\n",
       "</style>\n",
       "<table border=\"1\" class=\"dataframe\">\n",
       "  <thead>\n",
       "    <tr style=\"text-align: right;\">\n",
       "      <th></th>\n",
       "      <th>metric_val</th>\n",
       "      <th>seed</th>\n",
       "    </tr>\n",
       "    <tr>\n",
       "      <th>arch</th>\n",
       "      <th></th>\n",
       "      <th></th>\n",
       "    </tr>\n",
       "  </thead>\n",
       "  <tbody>\n",
       "    <tr>\n",
       "      <th>MP-CNN</th>\n",
       "      <td>0.75962</td>\n",
       "      <td>548872.6</td>\n",
       "    </tr>\n",
       "    <tr>\n",
       "      <th>MP-CNN Lite</th>\n",
       "      <td>0.81370</td>\n",
       "      <td>548872.6</td>\n",
       "    </tr>\n",
       "    <tr>\n",
       "      <th>SM-CNN with Comp</th>\n",
       "      <td>0.76125</td>\n",
       "      <td>548872.6</td>\n",
       "    </tr>\n",
       "  </tbody>\n",
       "</table>\n",
       "</div>"
      ],
      "text/plain": [
       "                  metric_val      seed\n",
       "arch                                  \n",
       "MP-CNN               0.75962  548872.6\n",
       "MP-CNN Lite          0.81370  548872.6\n",
       "SM-CNN with Comp     0.76125  548872.6"
      ]
     },
     "execution_count": 209,
     "metadata": {},
     "output_type": "execute_result"
    }
   ],
   "source": [
    "trec_mrr_vs_archs_test.groupby('arch').mean()"
   ]
  },
  {
   "cell_type": "code",
   "execution_count": 210,
   "metadata": {},
   "outputs": [
    {
     "data": {
      "text/html": [
       "<div>\n",
       "<style>\n",
       "    .dataframe thead tr:only-child th {\n",
       "        text-align: right;\n",
       "    }\n",
       "\n",
       "    .dataframe thead th {\n",
       "        text-align: left;\n",
       "    }\n",
       "\n",
       "    .dataframe tbody tr th {\n",
       "        vertical-align: top;\n",
       "    }\n",
       "</style>\n",
       "<table border=\"1\" class=\"dataframe\">\n",
       "  <thead>\n",
       "    <tr style=\"text-align: right;\">\n",
       "      <th></th>\n",
       "      <th>arch</th>\n",
       "      <th>dataset</th>\n",
       "      <th>metric_name</th>\n",
       "      <th>metric_val</th>\n",
       "      <th>seed</th>\n",
       "      <th>split</th>\n",
       "    </tr>\n",
       "  </thead>\n",
       "  <tbody>\n",
       "    <tr>\n",
       "      <th>2</th>\n",
       "      <td>MP-CNN Lite</td>\n",
       "      <td>trecqa</td>\n",
       "      <td>MAP</td>\n",
       "      <td>0.7617</td>\n",
       "      <td>143142</td>\n",
       "      <td>test</td>\n",
       "    </tr>\n",
       "    <tr>\n",
       "      <th>86</th>\n",
       "      <td>SM-CNN with Comp</td>\n",
       "      <td>trecqa</td>\n",
       "      <td>MAP</td>\n",
       "      <td>0.7161</td>\n",
       "      <td>143142</td>\n",
       "      <td>test</td>\n",
       "    </tr>\n",
       "    <tr>\n",
       "      <th>22</th>\n",
       "      <td>MP-CNN</td>\n",
       "      <td>trecqa</td>\n",
       "      <td>MAP</td>\n",
       "      <td>0.7926</td>\n",
       "      <td>143142</td>\n",
       "      <td>test</td>\n",
       "    </tr>\n",
       "    <tr>\n",
       "      <th>110</th>\n",
       "      <td>SM-CNN with Comp</td>\n",
       "      <td>trecqa</td>\n",
       "      <td>MAP</td>\n",
       "      <td>0.6764</td>\n",
       "      <td>196571</td>\n",
       "      <td>test</td>\n",
       "    </tr>\n",
       "    <tr>\n",
       "      <th>34</th>\n",
       "      <td>MP-CNN Lite</td>\n",
       "      <td>trecqa</td>\n",
       "      <td>MAP</td>\n",
       "      <td>0.7858</td>\n",
       "      <td>196571</td>\n",
       "      <td>test</td>\n",
       "    </tr>\n",
       "    <tr>\n",
       "      <th>54</th>\n",
       "      <td>MP-CNN</td>\n",
       "      <td>trecqa</td>\n",
       "      <td>MAP</td>\n",
       "      <td>0.5705</td>\n",
       "      <td>196571</td>\n",
       "      <td>test</td>\n",
       "    </tr>\n",
       "    <tr>\n",
       "      <th>102</th>\n",
       "      <td>SM-CNN with Comp</td>\n",
       "      <td>trecqa</td>\n",
       "      <td>MAP</td>\n",
       "      <td>0.6966</td>\n",
       "      <td>211554</td>\n",
       "      <td>test</td>\n",
       "    </tr>\n",
       "    <tr>\n",
       "      <th>70</th>\n",
       "      <td>MP-CNN Lite</td>\n",
       "      <td>trecqa</td>\n",
       "      <td>MAP</td>\n",
       "      <td>0.7525</td>\n",
       "      <td>211554</td>\n",
       "      <td>test</td>\n",
       "    </tr>\n",
       "    <tr>\n",
       "      <th>66</th>\n",
       "      <td>MP-CNN</td>\n",
       "      <td>trecqa</td>\n",
       "      <td>MAP</td>\n",
       "      <td>0.7765</td>\n",
       "      <td>211554</td>\n",
       "      <td>test</td>\n",
       "    </tr>\n",
       "    <tr>\n",
       "      <th>114</th>\n",
       "      <td>SM-CNN with Comp</td>\n",
       "      <td>trecqa</td>\n",
       "      <td>MAP</td>\n",
       "      <td>0.6906</td>\n",
       "      <td>304760</td>\n",
       "      <td>test</td>\n",
       "    </tr>\n",
       "    <tr>\n",
       "      <th>50</th>\n",
       "      <td>MP-CNN Lite</td>\n",
       "      <td>trecqa</td>\n",
       "      <td>MAP</td>\n",
       "      <td>0.7541</td>\n",
       "      <td>304760</td>\n",
       "      <td>test</td>\n",
       "    </tr>\n",
       "    <tr>\n",
       "      <th>58</th>\n",
       "      <td>MP-CNN</td>\n",
       "      <td>trecqa</td>\n",
       "      <td>MAP</td>\n",
       "      <td>0.7654</td>\n",
       "      <td>304760</td>\n",
       "      <td>test</td>\n",
       "    </tr>\n",
       "    <tr>\n",
       "      <th>30</th>\n",
       "      <td>MP-CNN Lite</td>\n",
       "      <td>trecqa</td>\n",
       "      <td>MAP</td>\n",
       "      <td>0.7576</td>\n",
       "      <td>489995</td>\n",
       "      <td>test</td>\n",
       "    </tr>\n",
       "    <tr>\n",
       "      <th>26</th>\n",
       "      <td>MP-CNN</td>\n",
       "      <td>trecqa</td>\n",
       "      <td>MAP</td>\n",
       "      <td>0.5140</td>\n",
       "      <td>489995</td>\n",
       "      <td>test</td>\n",
       "    </tr>\n",
       "    <tr>\n",
       "      <th>90</th>\n",
       "      <td>SM-CNN with Comp</td>\n",
       "      <td>trecqa</td>\n",
       "      <td>MAP</td>\n",
       "      <td>0.6899</td>\n",
       "      <td>489995</td>\n",
       "      <td>test</td>\n",
       "    </tr>\n",
       "    <tr>\n",
       "      <th>38</th>\n",
       "      <td>MP-CNN</td>\n",
       "      <td>trecqa</td>\n",
       "      <td>MAP</td>\n",
       "      <td>0.7735</td>\n",
       "      <td>529004</td>\n",
       "      <td>test</td>\n",
       "    </tr>\n",
       "    <tr>\n",
       "      <th>6</th>\n",
       "      <td>MP-CNN Lite</td>\n",
       "      <td>trecqa</td>\n",
       "      <td>MAP</td>\n",
       "      <td>0.7739</td>\n",
       "      <td>529004</td>\n",
       "      <td>test</td>\n",
       "    </tr>\n",
       "    <tr>\n",
       "      <th>94</th>\n",
       "      <td>SM-CNN with Comp</td>\n",
       "      <td>trecqa</td>\n",
       "      <td>MAP</td>\n",
       "      <td>0.7064</td>\n",
       "      <td>529004</td>\n",
       "      <td>test</td>\n",
       "    </tr>\n",
       "    <tr>\n",
       "      <th>42</th>\n",
       "      <td>MP-CNN</td>\n",
       "      <td>trecqa</td>\n",
       "      <td>MAP</td>\n",
       "      <td>0.7732</td>\n",
       "      <td>799173</td>\n",
       "      <td>test</td>\n",
       "    </tr>\n",
       "    <tr>\n",
       "      <th>98</th>\n",
       "      <td>SM-CNN with Comp</td>\n",
       "      <td>trecqa</td>\n",
       "      <td>MAP</td>\n",
       "      <td>0.6986</td>\n",
       "      <td>799173</td>\n",
       "      <td>test</td>\n",
       "    </tr>\n",
       "    <tr>\n",
       "      <th>46</th>\n",
       "      <td>MP-CNN Lite</td>\n",
       "      <td>trecqa</td>\n",
       "      <td>MAP</td>\n",
       "      <td>0.7665</td>\n",
       "      <td>799173</td>\n",
       "      <td>test</td>\n",
       "    </tr>\n",
       "    <tr>\n",
       "      <th>118</th>\n",
       "      <td>SM-CNN with Comp</td>\n",
       "      <td>trecqa</td>\n",
       "      <td>MAP</td>\n",
       "      <td>0.6824</td>\n",
       "      <td>881716</td>\n",
       "      <td>test</td>\n",
       "    </tr>\n",
       "    <tr>\n",
       "      <th>78</th>\n",
       "      <td>MP-CNN</td>\n",
       "      <td>trecqa</td>\n",
       "      <td>MAP</td>\n",
       "      <td>0.7732</td>\n",
       "      <td>881716</td>\n",
       "      <td>test</td>\n",
       "    </tr>\n",
       "    <tr>\n",
       "      <th>74</th>\n",
       "      <td>MP-CNN Lite</td>\n",
       "      <td>trecqa</td>\n",
       "      <td>MAP</td>\n",
       "      <td>0.7820</td>\n",
       "      <td>881716</td>\n",
       "      <td>test</td>\n",
       "    </tr>\n",
       "    <tr>\n",
       "      <th>18</th>\n",
       "      <td>MP-CNN Lite</td>\n",
       "      <td>trecqa</td>\n",
       "      <td>MAP</td>\n",
       "      <td>0.7578</td>\n",
       "      <td>953285</td>\n",
       "      <td>test</td>\n",
       "    </tr>\n",
       "    <tr>\n",
       "      <th>106</th>\n",
       "      <td>SM-CNN with Comp</td>\n",
       "      <td>trecqa</td>\n",
       "      <td>MAP</td>\n",
       "      <td>0.6727</td>\n",
       "      <td>953285</td>\n",
       "      <td>test</td>\n",
       "    </tr>\n",
       "    <tr>\n",
       "      <th>62</th>\n",
       "      <td>MP-CNN</td>\n",
       "      <td>trecqa</td>\n",
       "      <td>MAP</td>\n",
       "      <td>0.5996</td>\n",
       "      <td>953285</td>\n",
       "      <td>test</td>\n",
       "    </tr>\n",
       "    <tr>\n",
       "      <th>10</th>\n",
       "      <td>MP-CNN</td>\n",
       "      <td>trecqa</td>\n",
       "      <td>MAP</td>\n",
       "      <td>0.7873</td>\n",
       "      <td>979526</td>\n",
       "      <td>test</td>\n",
       "    </tr>\n",
       "    <tr>\n",
       "      <th>14</th>\n",
       "      <td>MP-CNN Lite</td>\n",
       "      <td>trecqa</td>\n",
       "      <td>MAP</td>\n",
       "      <td>0.7732</td>\n",
       "      <td>979526</td>\n",
       "      <td>test</td>\n",
       "    </tr>\n",
       "    <tr>\n",
       "      <th>82</th>\n",
       "      <td>SM-CNN with Comp</td>\n",
       "      <td>trecqa</td>\n",
       "      <td>MAP</td>\n",
       "      <td>0.6864</td>\n",
       "      <td>979526</td>\n",
       "      <td>test</td>\n",
       "    </tr>\n",
       "  </tbody>\n",
       "</table>\n",
       "</div>"
      ],
      "text/plain": [
       "                 arch dataset metric_name  metric_val    seed split\n",
       "2         MP-CNN Lite  trecqa         MAP      0.7617  143142  test\n",
       "86   SM-CNN with Comp  trecqa         MAP      0.7161  143142  test\n",
       "22             MP-CNN  trecqa         MAP      0.7926  143142  test\n",
       "110  SM-CNN with Comp  trecqa         MAP      0.6764  196571  test\n",
       "34        MP-CNN Lite  trecqa         MAP      0.7858  196571  test\n",
       "54             MP-CNN  trecqa         MAP      0.5705  196571  test\n",
       "102  SM-CNN with Comp  trecqa         MAP      0.6966  211554  test\n",
       "70        MP-CNN Lite  trecqa         MAP      0.7525  211554  test\n",
       "66             MP-CNN  trecqa         MAP      0.7765  211554  test\n",
       "114  SM-CNN with Comp  trecqa         MAP      0.6906  304760  test\n",
       "50        MP-CNN Lite  trecqa         MAP      0.7541  304760  test\n",
       "58             MP-CNN  trecqa         MAP      0.7654  304760  test\n",
       "30        MP-CNN Lite  trecqa         MAP      0.7576  489995  test\n",
       "26             MP-CNN  trecqa         MAP      0.5140  489995  test\n",
       "90   SM-CNN with Comp  trecqa         MAP      0.6899  489995  test\n",
       "38             MP-CNN  trecqa         MAP      0.7735  529004  test\n",
       "6         MP-CNN Lite  trecqa         MAP      0.7739  529004  test\n",
       "94   SM-CNN with Comp  trecqa         MAP      0.7064  529004  test\n",
       "42             MP-CNN  trecqa         MAP      0.7732  799173  test\n",
       "98   SM-CNN with Comp  trecqa         MAP      0.6986  799173  test\n",
       "46        MP-CNN Lite  trecqa         MAP      0.7665  799173  test\n",
       "118  SM-CNN with Comp  trecqa         MAP      0.6824  881716  test\n",
       "78             MP-CNN  trecqa         MAP      0.7732  881716  test\n",
       "74        MP-CNN Lite  trecqa         MAP      0.7820  881716  test\n",
       "18        MP-CNN Lite  trecqa         MAP      0.7578  953285  test\n",
       "106  SM-CNN with Comp  trecqa         MAP      0.6727  953285  test\n",
       "62             MP-CNN  trecqa         MAP      0.5996  953285  test\n",
       "10             MP-CNN  trecqa         MAP      0.7873  979526  test\n",
       "14        MP-CNN Lite  trecqa         MAP      0.7732  979526  test\n",
       "82   SM-CNN with Comp  trecqa         MAP      0.6864  979526  test"
      ]
     },
     "execution_count": 210,
     "metadata": {},
     "output_type": "execute_result"
    }
   ],
   "source": [
    "trec_map_vs_archs_test.sort_values('seed')"
   ]
  },
  {
   "cell_type": "code",
   "execution_count": 211,
   "metadata": {},
   "outputs": [
    {
     "name": "stdout",
     "output_type": "stream",
     "text": [
      "Architecture: MP-CNN\n",
      "Median of MAP change compared with single baseline: 0.0000\n",
      "Mean of MAP change compared with single baseline: 0.0000\n",
      "Architecture: MP-CNN Lite\n",
      "Median of MAP change compared with single baseline: -0.0031\n",
      "Mean of MAP change compared with single baseline: 0.0539\n",
      "Architecture: SM-CNN with Comp\n",
      "Median of MAP change compared with single baseline: -0.0747\n",
      "Mean of MAP change compared with single baseline: -0.0210\n"
     ]
    }
   ],
   "source": [
    "compare_change_to_baseline(trec_map_vs_archs_test, 'MAP')"
   ]
  },
  {
   "cell_type": "code",
   "execution_count": 212,
   "metadata": {},
   "outputs": [
    {
     "name": "stdout",
     "output_type": "stream",
     "text": [
      "Architecture: MP-CNN\n",
      "Median of MRR change compared with single baseline: 0.0000\n",
      "Mean of MRR change compared with single baseline: 0.0000\n",
      "Architecture: MP-CNN Lite\n",
      "Median of MRR change compared with single baseline: -0.0026\n",
      "Mean of MRR change compared with single baseline: 0.0541\n",
      "Architecture: SM-CNN with Comp\n",
      "Median of MRR change compared with single baseline: -0.0460\n",
      "Mean of MRR change compared with single baseline: 0.0016\n"
     ]
    }
   ],
   "source": [
    "compare_change_to_baseline(trec_mrr_vs_archs_test, 'MRR')"
   ]
  },
  {
   "cell_type": "markdown",
   "metadata": {},
   "source": [
    "## WikiQA"
   ]
  },
  {
   "cell_type": "code",
   "execution_count": 213,
   "metadata": {},
   "outputs": [],
   "source": [
    "wikiqa_map_vs_archs_test = wikiqa[(wikiqa['metric_name'] == 'MAP') & (wikiqa['split'] == 'test')]\n",
    "wikiqa_mrr_vs_archs_test = wikiqa[(wikiqa['metric_name'] == 'MRR') & (wikiqa['split'] == 'test')]\n",
    "wikiqa_map_vs_archs_dev = wikiqa[(wikiqa['metric_name'] == 'MAP') & (wikiqa['split'] == 'dev')]\n",
    "wikiqa_mrr_vs_archs_dev = wikiqa[(wikiqa['metric_name'] == 'MRR') & (wikiqa['split'] == 'dev')]"
   ]
  },
  {
   "cell_type": "code",
   "execution_count": 214,
   "metadata": {},
   "outputs": [
    {
     "name": "stdout",
     "output_type": "stream",
     "text": [
      "MP-CNN: (0.4592, 0.6862)\n",
      "MP-CNN Lite: (0.6711, 0.7029)\n",
      "SM-CNN with Comp: (0.4955, 0.6554)\n"
     ]
    }
   ],
   "source": [
    "for arch in wikiqa_map_vs_archs_test['arch'].unique():\n",
    "    arr = wikiqa_map_vs_archs_test[wikiqa_map_vs_archs_test['arch'] == arch]['metric_val']\n",
    "    ci = sms.DescrStatsW(arr).tconfint_mean()\n",
    "    print(f'{arch}: ({ci[0]:.4f}, {ci[1]:.4f})')"
   ]
  },
  {
   "cell_type": "code",
   "execution_count": 215,
   "metadata": {},
   "outputs": [
    {
     "name": "stdout",
     "output_type": "stream",
     "text": [
      "MP-CNN: (0.4643, 0.6999)\n",
      "MP-CNN Lite: (0.6834, 0.7160)\n",
      "SM-CNN with Comp: (0.5012, 0.6690)\n"
     ]
    }
   ],
   "source": [
    "for arch in wikiqa_mrr_vs_archs_test['arch'].unique():\n",
    "    arr = wikiqa_mrr_vs_archs_test[wikiqa_mrr_vs_archs_test['arch'] == arch]['metric_val']\n",
    "    ci = sms.DescrStatsW(arr).tconfint_mean()\n",
    "    print(f'{arch}: ({ci[0]:.4f}, {ci[1]:.4f})')"
   ]
  },
  {
   "cell_type": "code",
   "execution_count": 216,
   "metadata": {},
   "outputs": [
    {
     "data": {
      "text/html": [
       "<div>\n",
       "<style>\n",
       "    .dataframe thead tr:only-child th {\n",
       "        text-align: right;\n",
       "    }\n",
       "\n",
       "    .dataframe thead th {\n",
       "        text-align: left;\n",
       "    }\n",
       "\n",
       "    .dataframe tbody tr th {\n",
       "        vertical-align: top;\n",
       "    }\n",
       "</style>\n",
       "<table border=\"1\" class=\"dataframe\">\n",
       "  <thead>\n",
       "    <tr style=\"text-align: right;\">\n",
       "      <th></th>\n",
       "      <th>metric_val</th>\n",
       "      <th>seed</th>\n",
       "    </tr>\n",
       "    <tr>\n",
       "      <th>arch</th>\n",
       "      <th></th>\n",
       "      <th></th>\n",
       "    </tr>\n",
       "  </thead>\n",
       "  <tbody>\n",
       "    <tr>\n",
       "      <th>MP-CNN</th>\n",
       "      <td>0.57271</td>\n",
       "      <td>548872.6</td>\n",
       "    </tr>\n",
       "    <tr>\n",
       "      <th>MP-CNN Lite</th>\n",
       "      <td>0.68702</td>\n",
       "      <td>548872.6</td>\n",
       "    </tr>\n",
       "    <tr>\n",
       "      <th>SM-CNN with Comp</th>\n",
       "      <td>0.57546</td>\n",
       "      <td>548872.6</td>\n",
       "    </tr>\n",
       "  </tbody>\n",
       "</table>\n",
       "</div>"
      ],
      "text/plain": [
       "                  metric_val      seed\n",
       "arch                                  \n",
       "MP-CNN               0.57271  548872.6\n",
       "MP-CNN Lite          0.68702  548872.6\n",
       "SM-CNN with Comp     0.57546  548872.6"
      ]
     },
     "execution_count": 216,
     "metadata": {},
     "output_type": "execute_result"
    }
   ],
   "source": [
    "wikiqa_map_vs_archs_test.groupby('arch').mean()"
   ]
  },
  {
   "cell_type": "code",
   "execution_count": 217,
   "metadata": {},
   "outputs": [
    {
     "data": {
      "text/html": [
       "<div>\n",
       "<style>\n",
       "    .dataframe thead tr:only-child th {\n",
       "        text-align: right;\n",
       "    }\n",
       "\n",
       "    .dataframe thead th {\n",
       "        text-align: left;\n",
       "    }\n",
       "\n",
       "    .dataframe tbody tr th {\n",
       "        vertical-align: top;\n",
       "    }\n",
       "</style>\n",
       "<table border=\"1\" class=\"dataframe\">\n",
       "  <thead>\n",
       "    <tr style=\"text-align: right;\">\n",
       "      <th></th>\n",
       "      <th>metric_val</th>\n",
       "      <th>seed</th>\n",
       "    </tr>\n",
       "    <tr>\n",
       "      <th>arch</th>\n",
       "      <th></th>\n",
       "      <th></th>\n",
       "    </tr>\n",
       "  </thead>\n",
       "  <tbody>\n",
       "    <tr>\n",
       "      <th>MP-CNN</th>\n",
       "      <td>0.58214</td>\n",
       "      <td>548872.6</td>\n",
       "    </tr>\n",
       "    <tr>\n",
       "      <th>MP-CNN Lite</th>\n",
       "      <td>0.69969</td>\n",
       "      <td>548872.6</td>\n",
       "    </tr>\n",
       "    <tr>\n",
       "      <th>SM-CNN with Comp</th>\n",
       "      <td>0.58510</td>\n",
       "      <td>548872.6</td>\n",
       "    </tr>\n",
       "  </tbody>\n",
       "</table>\n",
       "</div>"
      ],
      "text/plain": [
       "                  metric_val      seed\n",
       "arch                                  \n",
       "MP-CNN               0.58214  548872.6\n",
       "MP-CNN Lite          0.69969  548872.6\n",
       "SM-CNN with Comp     0.58510  548872.6"
      ]
     },
     "execution_count": 217,
     "metadata": {},
     "output_type": "execute_result"
    }
   ],
   "source": [
    "wikiqa_mrr_vs_archs_test.groupby('arch').mean()"
   ]
  },
  {
   "cell_type": "code",
   "execution_count": 218,
   "metadata": {},
   "outputs": [
    {
     "name": "stdout",
     "output_type": "stream",
     "text": [
      "Architecture: MP-CNN\n",
      "Median of MAP change compared with single baseline: 0.0000\n",
      "Mean of MAP change compared with single baseline: 0.0000\n",
      "Architecture: MP-CNN Lite\n",
      "Median of MAP change compared with single baseline: 0.0033\n",
      "Mean of MAP change compared with single baseline: 0.1143\n",
      "Architecture: SM-CNN with Comp\n",
      "Median of MAP change compared with single baseline: -0.0425\n",
      "Mean of MAP change compared with single baseline: 0.0027\n"
     ]
    }
   ],
   "source": [
    "compare_change_to_baseline(wikiqa_map_vs_archs_test, 'MAP')"
   ]
  },
  {
   "cell_type": "code",
   "execution_count": 219,
   "metadata": {},
   "outputs": [
    {
     "name": "stdout",
     "output_type": "stream",
     "text": [
      "Architecture: MP-CNN\n",
      "Median of MRR change compared with single baseline: 0.0000\n",
      "Mean of MRR change compared with single baseline: 0.0000\n",
      "Architecture: MP-CNN Lite\n",
      "Median of MRR change compared with single baseline: -0.0007\n",
      "Mean of MRR change compared with single baseline: 0.1176\n",
      "Architecture: SM-CNN with Comp\n",
      "Median of MRR change compared with single baseline: -0.0448\n",
      "Mean of MRR change compared with single baseline: 0.0030\n"
     ]
    }
   ],
   "source": [
    "compare_change_to_baseline(wikiqa_mrr_vs_archs_test, 'MRR')"
   ]
  },
  {
   "cell_type": "code",
   "execution_count": 220,
   "metadata": {},
   "outputs": [
    {
     "data": {
      "text/plain": [
       "(array([ 0.1,  0.2,  0.3,  0.4,  0.5,  0.6,  0.7,  0.8,  0.9,  1. ]),\n",
       " <a list of 10 Text yticklabel objects>)"
      ]
     },
     "execution_count": 220,
     "metadata": {},
     "output_type": "execute_result"
    },
    {
     "data": {
      "image/png": "[encoded data removed]",
      "text/plain": [
       "<matplotlib.figure.Figure at 0x7fca27789d30>"
      ]
     },
     "metadata": {},
     "output_type": "display_data"
    }
   ],
   "source": [
    "fig, ax = plt.subplots()\n",
    "fig.set_size_inches(11.7, 8.27)\n",
    "ax = sns.violinplot(x='arch', y='metric_val', data=wikiqa_map_vs_archs_test, order=archs, ax=ax)\n",
    "plt.xlabel('Architecture', fontsize=24)\n",
    "plt.ylabel('MAP', fontsize=24)\n",
    "plt.xticks(fontsize=22)\n",
    "plt.yticks(fontsize=22)\n",
    "# plt.ylim(0.6, 0.75)"
   ]
  },
  {
   "cell_type": "markdown",
   "metadata": {},
   "source": [
    "## SICK"
   ]
  },
  {
   "cell_type": "code",
   "execution_count": 221,
   "metadata": {},
   "outputs": [],
   "source": [
    "sick_pearson_vs_archs_test = sick[(sick['metric_name'] == 'pearson') & (sick['split'] == 'test')]\n",
    "sick_spearman_vs_archs_test = sick[(sick['metric_name'] == 'spearman') & (sick['split'] == 'test')]\n",
    "sick_pearson_vs_archs_dev = sick[(sick['metric_name'] == 'pearson') & (sick['split'] == 'dev')]\n",
    "sick_spearman_vs_archs_dev = sick[(sick['metric_name'] == 'spearman') & (sick['split'] == 'dev')]"
   ]
  },
  {
   "cell_type": "code",
   "execution_count": 222,
   "metadata": {},
   "outputs": [
    {
     "name": "stdout",
     "output_type": "stream",
     "text": [
      "MP-CNN: (0.8649, 0.8733)\n",
      "MP-CNN Lite: (0.8604, 0.8683)\n",
      "SM-CNN with Comp: (0.7976, 0.8030)\n"
     ]
    }
   ],
   "source": [
    "for arch in sick_pearson_vs_archs_test['arch'].unique():\n",
    "    arr = sick_pearson_vs_archs_test[sick_pearson_vs_archs_test['arch'] == arch]['metric_val']\n",
    "    ci = sms.DescrStatsW(arr).tconfint_mean()\n",
    "    print(f'{arch}: ({ci[0]:.4f}, {ci[1]:.4f})')"
   ]
  },
  {
   "cell_type": "code",
   "execution_count": 223,
   "metadata": {},
   "outputs": [
    {
     "name": "stdout",
     "output_type": "stream",
     "text": [
      "MP-CNN: (0.7990, 0.8103)\n",
      "MP-CNN Lite: (0.7958, 0.8053)\n",
      "SM-CNN with Comp: (0.7393, 0.7450)\n"
     ]
    }
   ],
   "source": [
    "for arch in sick_spearman_vs_archs_test['arch'].unique():\n",
    "    arr = sick_spearman_vs_archs_test[sick_spearman_vs_archs_test['arch'] == arch]['metric_val']\n",
    "    ci = sms.DescrStatsW(arr).tconfint_mean()\n",
    "    print(f'{arch}: ({ci[0]:.4f}, {ci[1]:.4f})')"
   ]
  },
  {
   "cell_type": "code",
   "execution_count": 224,
   "metadata": {},
   "outputs": [
    {
     "data": {
      "text/html": [
       "<div>\n",
       "<style>\n",
       "    .dataframe thead tr:only-child th {\n",
       "        text-align: right;\n",
       "    }\n",
       "\n",
       "    .dataframe thead th {\n",
       "        text-align: left;\n",
       "    }\n",
       "\n",
       "    .dataframe tbody tr th {\n",
       "        vertical-align: top;\n",
       "    }\n",
       "</style>\n",
       "<table border=\"1\" class=\"dataframe\">\n",
       "  <thead>\n",
       "    <tr style=\"text-align: right;\">\n",
       "      <th></th>\n",
       "      <th>metric_val</th>\n",
       "      <th>seed</th>\n",
       "    </tr>\n",
       "    <tr>\n",
       "      <th>arch</th>\n",
       "      <th></th>\n",
       "      <th></th>\n",
       "    </tr>\n",
       "  </thead>\n",
       "  <tbody>\n",
       "    <tr>\n",
       "      <th>MP-CNN</th>\n",
       "      <td>0.869105</td>\n",
       "      <td>548872.6</td>\n",
       "    </tr>\n",
       "    <tr>\n",
       "      <th>MP-CNN Lite</th>\n",
       "      <td>0.864389</td>\n",
       "      <td>548872.6</td>\n",
       "    </tr>\n",
       "    <tr>\n",
       "      <th>SM-CNN with Comp</th>\n",
       "      <td>0.800321</td>\n",
       "      <td>548872.6</td>\n",
       "    </tr>\n",
       "  </tbody>\n",
       "</table>\n",
       "</div>"
      ],
      "text/plain": [
       "                  metric_val      seed\n",
       "arch                                  \n",
       "MP-CNN              0.869105  548872.6\n",
       "MP-CNN Lite         0.864389  548872.6\n",
       "SM-CNN with Comp    0.800321  548872.6"
      ]
     },
     "execution_count": 224,
     "metadata": {},
     "output_type": "execute_result"
    }
   ],
   "source": [
    "sick_pearson_vs_archs_test.groupby('arch').mean()"
   ]
  },
  {
   "cell_type": "code",
   "execution_count": 225,
   "metadata": {},
   "outputs": [
    {
     "data": {
      "text/html": [
       "<div>\n",
       "<style>\n",
       "    .dataframe thead tr:only-child th {\n",
       "        text-align: right;\n",
       "    }\n",
       "\n",
       "    .dataframe thead th {\n",
       "        text-align: left;\n",
       "    }\n",
       "\n",
       "    .dataframe tbody tr th {\n",
       "        vertical-align: top;\n",
       "    }\n",
       "</style>\n",
       "<table border=\"1\" class=\"dataframe\">\n",
       "  <thead>\n",
       "    <tr style=\"text-align: right;\">\n",
       "      <th></th>\n",
       "      <th>metric_val</th>\n",
       "      <th>seed</th>\n",
       "    </tr>\n",
       "    <tr>\n",
       "      <th>arch</th>\n",
       "      <th></th>\n",
       "      <th></th>\n",
       "    </tr>\n",
       "  </thead>\n",
       "  <tbody>\n",
       "    <tr>\n",
       "      <th>MP-CNN</th>\n",
       "      <td>0.804639</td>\n",
       "      <td>548872.6</td>\n",
       "    </tr>\n",
       "    <tr>\n",
       "      <th>MP-CNN Lite</th>\n",
       "      <td>0.800537</td>\n",
       "      <td>548872.6</td>\n",
       "    </tr>\n",
       "    <tr>\n",
       "      <th>SM-CNN with Comp</th>\n",
       "      <td>0.742191</td>\n",
       "      <td>548872.6</td>\n",
       "    </tr>\n",
       "  </tbody>\n",
       "</table>\n",
       "</div>"
      ],
      "text/plain": [
       "                  metric_val      seed\n",
       "arch                                  \n",
       "MP-CNN              0.804639  548872.6\n",
       "MP-CNN Lite         0.800537  548872.6\n",
       "SM-CNN with Comp    0.742191  548872.6"
      ]
     },
     "execution_count": 225,
     "metadata": {},
     "output_type": "execute_result"
    }
   ],
   "source": [
    "sick_spearman_vs_archs_test.groupby('arch').mean()"
   ]
  },
  {
   "cell_type": "code",
   "execution_count": 226,
   "metadata": {},
   "outputs": [
    {
     "name": "stdout",
     "output_type": "stream",
     "text": [
      "Architecture: MP-CNN\n",
      "Median of pearson change compared with single baseline: 0.0000\n",
      "Mean of pearson change compared with single baseline: 0.0000\n",
      "Architecture: MP-CNN Lite\n",
      "Median of pearson change compared with single baseline: -0.0053\n",
      "Mean of pearson change compared with single baseline: -0.0047\n",
      "Architecture: SM-CNN with Comp\n",
      "Median of pearson change compared with single baseline: -0.0670\n",
      "Mean of pearson change compared with single baseline: -0.0688\n"
     ]
    }
   ],
   "source": [
    "compare_change_to_baseline(sick_pearson_vs_archs_test, 'pearson')"
   ]
  },
  {
   "cell_type": "code",
   "execution_count": 227,
   "metadata": {},
   "outputs": [
    {
     "name": "stdout",
     "output_type": "stream",
     "text": [
      "Architecture: MP-CNN\n",
      "Median of spearman change compared with single baseline: 0.0000\n",
      "Mean of spearman change compared with single baseline: 0.0000\n",
      "Architecture: MP-CNN Lite\n",
      "Median of spearman change compared with single baseline: -0.0042\n",
      "Mean of spearman change compared with single baseline: -0.0041\n",
      "Architecture: SM-CNN with Comp\n",
      "Median of spearman change compared with single baseline: -0.0606\n",
      "Mean of spearman change compared with single baseline: -0.0624\n"
     ]
    }
   ],
   "source": [
    "compare_change_to_baseline(sick_spearman_vs_archs_test, 'spearman')"
   ]
  },
  {
   "cell_type": "code",
   "execution_count": 228,
   "metadata": {},
   "outputs": [
    {
     "data": {
      "text/plain": [
       "(array([ 0.78,  0.8 ,  0.82,  0.84,  0.86,  0.88,  0.9 ]),\n",
       " <a list of 7 Text yticklabel objects>)"
      ]
     },
     "execution_count": 228,
     "metadata": {},
     "output_type": "execute_result"
    },
    {
     "data": {
      "image/png": "[encoded data removed]",
      "text/plain": [
       "<matplotlib.figure.Figure at 0x7fca2c2e25c0>"
      ]
     },
     "metadata": {},
     "output_type": "display_data"
    }
   ],
   "source": [
    "fig, ax = plt.subplots()\n",
    "fig.set_size_inches(11.7, 8.27)\n",
    "ax = sns.violinplot(x='arch', y='metric_val', data=sick_pearson_vs_archs_test, order=archs, ax=ax)\n",
    "plt.xlabel('Architecture', fontsize=24)\n",
    "plt.ylabel('Pearson', fontsize=24)\n",
    "plt.xticks(fontsize=22)\n",
    "plt.yticks(fontsize=22)\n",
    "# plt.ylim(0.86, 0.88)"
   ]
  },
  {
   "cell_type": "code",
   "execution_count": 230,
   "metadata": {},
   "outputs": [
    {
     "data": {
      "image/png": "[encoded data removed]",
      "text/plain": [
       "<matplotlib.figure.Figure at 0x7fca26d81630>"
      ]
     },
     "metadata": {},
     "output_type": "display_data"
    }
   ],
   "source": [
    "fig, ax = plt.subplots()\n",
    "fig.set_size_inches(11.7, 8.27)\n",
    "title_size = 18\n",
    "axis_size = 16\n",
    "tick_size = 14\n",
    "\n",
    "ax = plt.subplot(321)\n",
    "sns.violinplot(x='arch', y='metric_val', data=trec_map_vs_archs_test, order=archs, ax=ax)\n",
    "plt.ylabel('MAP', fontsize=axis_size)\n",
    "plt.xlabel('Architecture', fontsize=axis_size)\n",
    "plt.xticks(fontsize=tick_size)\n",
    "plt.yticks(fontsize=tick_size)\n",
    "plt.title('TrecQA', fontsize=title_size)\n",
    "\n",
    "ax = plt.subplot(322)\n",
    "sns.violinplot(x='arch', y='metric_val', data=trec_mrr_vs_archs_test, order=archs, ax=ax)\n",
    "plt.ylabel('MRR', fontsize=18)\n",
    "plt.xlabel('Architecture', fontsize=axis_size)\n",
    "plt.xticks(fontsize=tick_size)\n",
    "plt.yticks(fontsize=tick_size)\n",
    "plt.title('TrecQA', fontsize=title_size)\n",
    "\n",
    "ax = plt.subplot(323)\n",
    "sns.violinplot(x='arch', y='metric_val', data=wikiqa_map_vs_archs_test, order=archs, ax=ax)\n",
    "plt.ylabel('MAP', fontsize=axis_size)\n",
    "plt.xlabel('Architecture', fontsize=axis_size)\n",
    "plt.xticks(fontsize=tick_size)\n",
    "plt.yticks(fontsize=tick_size)\n",
    "plt.title('WikiQA', fontsize=title_size)\n",
    "\n",
    "ax = plt.subplot(324)\n",
    "sns.violinplot(x='arch', y='metric_val', data=wikiqa_mrr_vs_archs_test, order=archs, ax=ax)\n",
    "plt.ylabel('MRR', fontsize=axis_size)\n",
    "plt.xlabel('Architecture', fontsize=axis_size)\n",
    "plt.xticks(fontsize=tick_size)\n",
    "plt.yticks(fontsize=tick_size)\n",
    "plt.title('WikiQA', fontsize=title_size)\n",
    "\n",
    "ax = plt.subplot(325)\n",
    "sns.violinplot(x='arch', y='metric_val', data=sick_pearson_vs_archs_test, order=archs, ax=ax)\n",
    "plt.ylabel(\"Pearson's r\", fontsize=axis_size)\n",
    "plt.xlabel('Architecture', fontsize=axis_size)\n",
    "plt.xticks(fontsize=tick_size)\n",
    "plt.yticks(fontsize=tick_size)\n",
    "plt.title('SICK', fontsize=title_size)\n",
    "\n",
    "ax = plt.subplot(326)\n",
    "sns.violinplot(x='arch', y='metric_val', data=sick_spearman_vs_archs_test, order=archs, ax=ax)\n",
    "plt.ylabel(\"Spearman's p\", fontsize=axis_size)\n",
    "plt.xlabel('Architecture', fontsize=axis_size)\n",
    "plt.xticks(fontsize=tick_size)\n",
    "plt.yticks(fontsize=tick_size)\n",
    "plt.title('SICK', fontsize=title_size)\n",
    "plt.tight_layout()\n",
    "\n",
    "plt.savefig('lite-model-violin.pdf')"
   ]
  },
  {
   "cell_type": "code",
   "execution_count": null,
   "metadata": {},
   "outputs": [],
   "source": []
  }
 ],
 "metadata": {
  "kernelspec": {
   "display_name": "Python 3",
   "language": "python",
   "name": "python3"
  },
  "language_info": {
   "codemirror_mode": {
    "name": "ipython",
    "version": 3
   },
   "file_extension": ".py",
   "mimetype": "text/x-python",
   "name": "python",
   "nbconvert_exporter": "python",
   "pygments_lexer": "ipython3",
   "version": "3.6.4"
  }
 },
 "nbformat": 4,
 "nbformat_minor": 2
}
